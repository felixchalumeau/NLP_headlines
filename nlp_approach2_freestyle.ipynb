{
  "nbformat": 4,
  "nbformat_minor": 5,
  "metadata": {
    "kernelspec": {
      "display_name": "Python 3",
      "language": "python",
      "name": "python3"
    },
    "language_info": {
      "codemirror_mode": {
        "name": "ipython",
        "version": 3
      },
      "file_extension": ".py",
      "mimetype": "text/x-python",
      "name": "python",
      "nbconvert_exporter": "python",
      "pygments_lexer": "ipython3",
      "version": "3.8.5"
    },
    "colab": {
      "name": "nlp_approach2_freestyle.ipynb",
      "provenance": [],
      "collapsed_sections": []
    },
    "accelerator": "GPU"
  },
  "cells": [
    {
      "cell_type": "markdown",
      "metadata": {
        "id": "Q_qUgPYzpMPB"
      },
      "source": [
        "### Load libraries"
      ],
      "id": "Q_qUgPYzpMPB"
    },
    {
      "cell_type": "code",
      "metadata": {
        "id": "cRO6hDwZY76Q"
      },
      "source": [
        "import torch\n",
        "import torch.nn as nn\n",
        "import pandas as pd\n",
        "import numpy as np\n",
        "from sklearn.model_selection import train_test_split"
      ],
      "id": "cRO6hDwZY76Q",
      "execution_count": 1,
      "outputs": []
    },
    {
      "cell_type": "code",
      "metadata": {
        "id": "J0905KiZZQsW"
      },
      "source": [
        ""
      ],
      "id": "J0905KiZZQsW",
      "execution_count": 1,
      "outputs": []
    },
    {
      "cell_type": "markdown",
      "metadata": {
        "id": "2YjYKR2dpTWB"
      },
      "source": [
        "### Handle device (CPU or GPU)"
      ],
      "id": "2YjYKR2dpTWB"
    },
    {
      "cell_type": "code",
      "metadata": {
        "colab": {
          "base_uri": "https://localhost:8080/"
        },
        "id": "45guyUHNY76U",
        "outputId": "ef4f9683-c2f1-409a-de25-32599a79ab07"
      },
      "source": [
        "SEED = 1\n",
        "\n",
        "torch.manual_seed(SEED)\n",
        "torch.cuda.manual_seed(SEED)\n",
        "torch.backends.cudnn.deterministic = True\n",
        "\n",
        "use_cuda = torch.cuda.is_available()\n",
        "device = torch.device(\"cuda:0\" if use_cuda else \"cpu\")\n",
        "print(\"Use : \", device)\n"
      ],
      "id": "45guyUHNY76U",
      "execution_count": 2,
      "outputs": [
        {
          "output_type": "stream",
          "text": [
            "Use :  cuda:0\n"
          ],
          "name": "stdout"
        }
      ]
    },
    {
      "cell_type": "markdown",
      "metadata": {
        "id": "uFiOdnZvpc_Y"
      },
      "source": [
        "### Define all the \"utils\" functions"
      ],
      "id": "uFiOdnZvpc_Y"
    },
    {
      "cell_type": "code",
      "metadata": {
        "id": "huupYxqXY76Y"
      },
      "source": [
        "# We define our training loop\n",
        "def train(model, train_iter, validation_iter, number_epoch):\n",
        "    \"\"\"\n",
        "    Training loop for the model, which calls on eval to evaluate after each epoch\n",
        "    \"\"\"\n",
        "\n",
        "    print(\"Training model.\")\n",
        "\n",
        "    for epoch in range(1, number_epoch + 1):\n",
        "        model.train()\n",
        "        epoch_loss = 0\n",
        "        epoch_sse = 0\n",
        "        no_observations = 0  # Observations used for training so far\n",
        "\n",
        "        for batch in train_iter:\n",
        "            # add batch to GPU\n",
        "            batch = tuple(t.to(device) for t in batch)\n",
        "            # unzip\n",
        "            input_ids, input_masks, input_toktypes, targets = batch\n",
        "            # predict (forward pass)\n",
        "            predictions = model(input_ids, input_masks, input_toktypes)\n",
        "            predictions = predictions.squeeze(1)\n",
        "\n",
        "            optimizer.zero_grad()\n",
        "\n",
        "            loss = loss_fn(predictions, targets)\n",
        "\n",
        "            sse, __ = model_performance(predictions.detach().cpu().numpy(), targets.detach().cpu().numpy())\n",
        "\n",
        "            # Backpropagate and optimize\n",
        "            loss.backward()\n",
        "            torch.nn.utils.clip_grad_norm_(model.parameters(), 1.0)\n",
        "            optimizer.step()\n",
        "\n",
        "            # update metrics\n",
        "            no_observations = no_observations + targets.shape[0]\n",
        "            epoch_loss += loss.item() * targets.shape[0]\n",
        "            epoch_sse += sse\n",
        "\n",
        "        valid_loss, valid_mse, __, __ = eval(validation_iter, model)\n",
        "\n",
        "        epoch_loss, epoch_mse = epoch_loss / no_observations, epoch_sse / no_observations\n",
        "        print(f'| Epoch: {epoch:02} | Train Loss: {epoch_loss:.2f} | Train MSE: {epoch_mse:.2f} | Train RMSE: {epoch_mse**0.5:.2f} | \\\n",
        "        Val. Loss: {valid_loss:.2f} | Val. MSE: {valid_mse:.2f} |  Val. RMSE: {valid_mse**0.5:.2f} |')"
      ],
      "id": "huupYxqXY76Y",
      "execution_count": 3,
      "outputs": []
    },
    {
      "cell_type": "code",
      "metadata": {
        "id": "Xr11jwCmY76Z"
      },
      "source": [
        "# We evaluate performance on our dev set\n",
        "def eval(data_iter, model):\n",
        "    \"\"\"\n",
        "    Evaluating model performance on the dev set\n",
        "    \"\"\"\n",
        "    model.eval()\n",
        "    epoch_loss = 0\n",
        "    epoch_sse = 0\n",
        "    pred_all = []\n",
        "    trg_all = []\n",
        "    no_observations = 0\n",
        "\n",
        "    with torch.no_grad():\n",
        "        for batch in data_iter:\n",
        "            # add batch to GPU\n",
        "            batch = tuple(t.to(device) for t in batch)\n",
        "            # unzip\n",
        "            input_ids, input_masks, input_toktypes, targets = batch\n",
        "            # predict (forward pass)\n",
        "            predictions = model(input_ids, input_masks, input_toktypes)\n",
        "\n",
        "            predictions = predictions.squeeze(1)\n",
        "            loss = loss_fn(predictions, targets)\n",
        "\n",
        "            # We get the mse\n",
        "            pred, trg = predictions.detach().cpu().numpy(), targets.detach().cpu().numpy()\n",
        "            sse, __ = model_performance(pred, trg)\n",
        "\n",
        "            no_observations = no_observations + targets.shape[0]\n",
        "            epoch_loss += loss.item() * targets.shape[0]\n",
        "            epoch_sse += sse\n",
        "            pred_all.extend(pred)\n",
        "            trg_all.extend(trg)\n",
        "\n",
        "    return epoch_loss/no_observations, epoch_sse/no_observations, np.array(pred_all), np.array(trg_all)"
      ],
      "id": "Xr11jwCmY76Z",
      "execution_count": 4,
      "outputs": []
    },
    {
      "cell_type": "code",
      "metadata": {
        "id": "XVaiqfJcY76Z"
      },
      "source": [
        "# How we print the model performance\n",
        "def model_performance(output, target, print_output=False):\n",
        "    \"\"\"\n",
        "    Returns SSE and MSE per batch (printing the MSE and the RMSE)\n",
        "    \"\"\"\n",
        "\n",
        "    sq_error = (output - target)**2\n",
        "\n",
        "    sse = np.sum(sq_error)\n",
        "    mse = np.mean(sq_error)\n",
        "    rmse = np.sqrt(mse)\n",
        "\n",
        "    if print_output:\n",
        "        print(f'| MSE: {mse:.2f} | RMSE: {rmse:.2f} |')\n",
        "\n",
        "    return sse, mse"
      ],
      "id": "XVaiqfJcY76Z",
      "execution_count": 5,
      "outputs": []
    },
    {
      "cell_type": "markdown",
      "metadata": {
        "id": "Lwv4YDNOpmtE"
      },
      "source": [
        "### Load, have a look at and preprocess our data"
      ],
      "id": "Lwv4YDNOpmtE"
    },
    {
      "cell_type": "code",
      "metadata": {
        "colab": {
          "base_uri": "https://localhost:8080/",
          "height": 204
        },
        "id": "VRJTGVfApqfu",
        "outputId": "996d5f1c-eba9-4501-f3be-6bce44738b7c"
      },
      "source": [
        "# Import the data\r\n",
        "train_df = pd.read_csv('train.csv')\r\n",
        "\r\n",
        "train_df.head()"
      ],
      "id": "VRJTGVfApqfu",
      "execution_count": 61,
      "outputs": [
        {
          "output_type": "execute_result",
          "data": {
            "text/html": [
              "<div>\n",
              "<style scoped>\n",
              "    .dataframe tbody tr th:only-of-type {\n",
              "        vertical-align: middle;\n",
              "    }\n",
              "\n",
              "    .dataframe tbody tr th {\n",
              "        vertical-align: top;\n",
              "    }\n",
              "\n",
              "    .dataframe thead th {\n",
              "        text-align: right;\n",
              "    }\n",
              "</style>\n",
              "<table border=\"1\" class=\"dataframe\">\n",
              "  <thead>\n",
              "    <tr style=\"text-align: right;\">\n",
              "      <th></th>\n",
              "      <th>id</th>\n",
              "      <th>original</th>\n",
              "      <th>edit</th>\n",
              "      <th>grades</th>\n",
              "      <th>meanGrade</th>\n",
              "    </tr>\n",
              "  </thead>\n",
              "  <tbody>\n",
              "    <tr>\n",
              "      <th>0</th>\n",
              "      <td>14530</td>\n",
              "      <td>France is ‘ hunting down its citizens who join...</td>\n",
              "      <td>twins</td>\n",
              "      <td>10000</td>\n",
              "      <td>0.2</td>\n",
              "    </tr>\n",
              "    <tr>\n",
              "      <th>1</th>\n",
              "      <td>13034</td>\n",
              "      <td>Pentagon claims 2,000 % increase in Russian tr...</td>\n",
              "      <td>bowling</td>\n",
              "      <td>33110</td>\n",
              "      <td>1.6</td>\n",
              "    </tr>\n",
              "    <tr>\n",
              "      <th>2</th>\n",
              "      <td>8731</td>\n",
              "      <td>Iceland PM Calls Snap Vote as Pedophile Furor ...</td>\n",
              "      <td>party</td>\n",
              "      <td>22100</td>\n",
              "      <td>1.0</td>\n",
              "    </tr>\n",
              "    <tr>\n",
              "      <th>3</th>\n",
              "      <td>76</td>\n",
              "      <td>In an apparent first , Iran and Israel &lt;engage...</td>\n",
              "      <td>slap</td>\n",
              "      <td>20000</td>\n",
              "      <td>0.4</td>\n",
              "    </tr>\n",
              "    <tr>\n",
              "      <th>4</th>\n",
              "      <td>6164</td>\n",
              "      <td>Trump was told weeks ago that Flynn misled &lt;Vi...</td>\n",
              "      <td>school</td>\n",
              "      <td>0</td>\n",
              "      <td>0.0</td>\n",
              "    </tr>\n",
              "  </tbody>\n",
              "</table>\n",
              "</div>"
            ],
            "text/plain": [
              "      id                                           original  ... grades  meanGrade\n",
              "0  14530  France is ‘ hunting down its citizens who join...  ...  10000        0.2\n",
              "1  13034  Pentagon claims 2,000 % increase in Russian tr...  ...  33110        1.6\n",
              "2   8731  Iceland PM Calls Snap Vote as Pedophile Furor ...  ...  22100        1.0\n",
              "3     76  In an apparent first , Iran and Israel <engage...  ...  20000        0.4\n",
              "4   6164  Trump was told weeks ago that Flynn misled <Vi...  ...      0        0.0\n",
              "\n",
              "[5 rows x 5 columns]"
            ]
          },
          "metadata": {
            "tags": []
          },
          "execution_count": 61
        }
      ]
    },
    {
      "cell_type": "code",
      "metadata": {
        "colab": {
          "base_uri": "https://localhost:8080/",
          "height": 35
        },
        "id": "6ITnT1Duq7Gr",
        "outputId": "532cfd9e-e9dc-4028-8c3c-335fd88cc379"
      },
      "source": [
        "train_df[\"original\"][0]"
      ],
      "id": "6ITnT1Duq7Gr",
      "execution_count": 62,
      "outputs": [
        {
          "output_type": "execute_result",
          "data": {
            "application/vnd.google.colaboratory.intrinsic+json": {
              "type": "string"
            },
            "text/plain": [
              "'France is ‘ hunting down its citizens who joined <Isis/> ’ without trial in Iraq'"
            ]
          },
          "metadata": {
            "tags": []
          },
          "execution_count": 62
        }
      ]
    },
    {
      "cell_type": "code",
      "metadata": {
        "id": "LplcIGBAoKXF"
      },
      "source": [
        "punctuations = '''!()-[]{};:‘’\"\\,.?@#$%^&*_~'''\r\n",
        "sex_words = [\"orgy\", \"dick\", \"suck\", \"underwear\", \"sex\", \"sexual\", \"massage\", \"flirt\", \"kiss\", \"ass\", \"penis\"]\r\n",
        "\r\n",
        "def create_engineered_features(train_df, punctuations, sex_words):\r\n",
        "    train_df[\"lower_case\"] = train_df.apply(\r\n",
        "            lambda x: x[\"original\"].lower(), axis=1\r\n",
        "        )\r\n",
        "    train_df[\"edit_lower\"] = train_df.apply(\r\n",
        "            lambda x: x[\"edit\"].lower(), axis=1\r\n",
        "        )\r\n",
        "    train_df[\"nb_words\"] = train_df.apply(\r\n",
        "            lambda x: len(x[\"lower_case\"].split(\" \")), axis=1\r\n",
        "        )\r\n",
        "    train_df[\"nb_caracters\"] = train_df.apply(\r\n",
        "            lambda x: len(x[\"lower_case\"]), axis=1\r\n",
        "        )\r\n",
        "    train_df[\"nb_ponctuations\"] = train_df.apply(\r\n",
        "            lambda x: sum([1 if char in punctuations else 0 for char in x[\"lower_case\"]]), axis=1\r\n",
        "        )\r\n",
        "    train_df[\"edit_position\"] = train_df.apply(\r\n",
        "            lambda x: x[\"lower_case\"].find(\"<\"), axis=1\r\n",
        "        )\r\n",
        "    train_df[\"edit_rel_position\"] = train_df.apply(\r\n",
        "            lambda x: x[\"edit_position\"]/x[\"nb_caracters\"], axis=1\r\n",
        "        )\r\n",
        "    train_df[\"len_edit\"] = train_df.apply(\r\n",
        "            lambda x: len(x[\"edit_lower\"]), axis=1\r\n",
        "        )\r\n",
        "    # i need trump\r\n",
        "    train_df[\"trump_in_original\"] = train_df.apply(\r\n",
        "            lambda x: float(x[\"lower_case\"].find(\"trump\") != -1), axis=1\r\n",
        "        )\r\n",
        "    train_df[\"trump_in_edit\"] = train_df.apply(\r\n",
        "            lambda x: float(x[\"edit_lower\"].find(\"trump\") != -1), axis=1\r\n",
        "        )\r\n",
        "\r\n",
        "    # i need hair\r\n",
        "    train_df[\"hair_in_original\"] = train_df.apply(\r\n",
        "            lambda x: float(x[\"lower_case\"].find(\"hair\") != -1), axis=1\r\n",
        "        )\r\n",
        "    train_df[\"hair_in_edit\"] = train_df.apply(\r\n",
        "            lambda x: float(x[\"edit_lower\"].find(\"hair\") != -1), axis=1\r\n",
        "        )\r\n",
        "    train_df[\"sex_in_edit\"] = train_df.apply(\r\n",
        "            lambda x: float(x[\"edit_lower\"] in sex_words), axis=1\r\n",
        "        )\r\n",
        "\r\n",
        "    return train_df"
      ],
      "id": "LplcIGBAoKXF",
      "execution_count": 63,
      "outputs": []
    },
    {
      "cell_type": "code",
      "metadata": {
        "colab": {
          "base_uri": "https://localhost:8080/",
          "height": 615
        },
        "id": "GxQuk7Vo0Rpt",
        "outputId": "3aa4a6a1-488a-4632-d846-1703e5078940"
      },
      "source": [
        "train_df = create_engineered_features(train_df, punctuations, sex_words)\r\n",
        "train_df.head()"
      ],
      "id": "GxQuk7Vo0Rpt",
      "execution_count": 67,
      "outputs": [
        {
          "output_type": "execute_result",
          "data": {
            "text/html": [
              "<div>\n",
              "<style scoped>\n",
              "    .dataframe tbody tr th:only-of-type {\n",
              "        vertical-align: middle;\n",
              "    }\n",
              "\n",
              "    .dataframe tbody tr th {\n",
              "        vertical-align: top;\n",
              "    }\n",
              "\n",
              "    .dataframe thead th {\n",
              "        text-align: right;\n",
              "    }\n",
              "</style>\n",
              "<table border=\"1\" class=\"dataframe\">\n",
              "  <thead>\n",
              "    <tr style=\"text-align: right;\">\n",
              "      <th></th>\n",
              "      <th>id</th>\n",
              "      <th>original</th>\n",
              "      <th>edit</th>\n",
              "      <th>grades</th>\n",
              "      <th>meanGrade</th>\n",
              "      <th>lower_case</th>\n",
              "      <th>edit_lower</th>\n",
              "      <th>nb_words</th>\n",
              "      <th>nb_caracters</th>\n",
              "      <th>nb_ponctuations</th>\n",
              "      <th>edit_position</th>\n",
              "      <th>edit_rel_position</th>\n",
              "      <th>len_edit</th>\n",
              "      <th>trump_in_original</th>\n",
              "      <th>trump_in_edit</th>\n",
              "      <th>hair_in_original</th>\n",
              "      <th>hair_in_edit</th>\n",
              "      <th>sex_in_edit</th>\n",
              "    </tr>\n",
              "  </thead>\n",
              "  <tbody>\n",
              "    <tr>\n",
              "      <th>0</th>\n",
              "      <td>14530</td>\n",
              "      <td>France is ‘ hunting down its citizens who join...</td>\n",
              "      <td>twins</td>\n",
              "      <td>10000</td>\n",
              "      <td>0.2</td>\n",
              "      <td>france is ‘ hunting down its citizens who join...</td>\n",
              "      <td>twins</td>\n",
              "      <td>15</td>\n",
              "      <td>80</td>\n",
              "      <td>2</td>\n",
              "      <td>49</td>\n",
              "      <td>0.612500</td>\n",
              "      <td>5</td>\n",
              "      <td>0.0</td>\n",
              "      <td>0.0</td>\n",
              "      <td>0.0</td>\n",
              "      <td>0.0</td>\n",
              "      <td>0.0</td>\n",
              "    </tr>\n",
              "    <tr>\n",
              "      <th>1</th>\n",
              "      <td>13034</td>\n",
              "      <td>Pentagon claims 2,000 % increase in Russian tr...</td>\n",
              "      <td>bowling</td>\n",
              "      <td>33110</td>\n",
              "      <td>1.6</td>\n",
              "      <td>pentagon claims 2,000 % increase in russian tr...</td>\n",
              "      <td>bowling</td>\n",
              "      <td>17</td>\n",
              "      <td>97</td>\n",
              "      <td>4</td>\n",
              "      <td>57</td>\n",
              "      <td>0.587629</td>\n",
              "      <td>7</td>\n",
              "      <td>0.0</td>\n",
              "      <td>0.0</td>\n",
              "      <td>0.0</td>\n",
              "      <td>0.0</td>\n",
              "      <td>0.0</td>\n",
              "    </tr>\n",
              "    <tr>\n",
              "      <th>2</th>\n",
              "      <td>8731</td>\n",
              "      <td>Iceland PM Calls Snap Vote as Pedophile Furor ...</td>\n",
              "      <td>party</td>\n",
              "      <td>22100</td>\n",
              "      <td>1.0</td>\n",
              "      <td>iceland pm calls snap vote as pedophile furor ...</td>\n",
              "      <td>party</td>\n",
              "      <td>11</td>\n",
              "      <td>67</td>\n",
              "      <td>0</td>\n",
              "      <td>54</td>\n",
              "      <td>0.805970</td>\n",
              "      <td>5</td>\n",
              "      <td>0.0</td>\n",
              "      <td>0.0</td>\n",
              "      <td>0.0</td>\n",
              "      <td>0.0</td>\n",
              "      <td>0.0</td>\n",
              "    </tr>\n",
              "    <tr>\n",
              "      <th>3</th>\n",
              "      <td>76</td>\n",
              "      <td>In an apparent first , Iran and Israel &lt;engage...</td>\n",
              "      <td>slap</td>\n",
              "      <td>20000</td>\n",
              "      <td>0.4</td>\n",
              "      <td>in an apparent first , iran and israel &lt;engage...</td>\n",
              "      <td>slap</td>\n",
              "      <td>12</td>\n",
              "      <td>70</td>\n",
              "      <td>1</td>\n",
              "      <td>39</td>\n",
              "      <td>0.557143</td>\n",
              "      <td>4</td>\n",
              "      <td>0.0</td>\n",
              "      <td>0.0</td>\n",
              "      <td>0.0</td>\n",
              "      <td>0.0</td>\n",
              "      <td>0.0</td>\n",
              "    </tr>\n",
              "    <tr>\n",
              "      <th>4</th>\n",
              "      <td>6164</td>\n",
              "      <td>Trump was told weeks ago that Flynn misled &lt;Vi...</td>\n",
              "      <td>school</td>\n",
              "      <td>0</td>\n",
              "      <td>0.0</td>\n",
              "      <td>trump was told weeks ago that flynn misled &lt;vi...</td>\n",
              "      <td>school</td>\n",
              "      <td>11</td>\n",
              "      <td>62</td>\n",
              "      <td>1</td>\n",
              "      <td>43</td>\n",
              "      <td>0.693548</td>\n",
              "      <td>6</td>\n",
              "      <td>1.0</td>\n",
              "      <td>0.0</td>\n",
              "      <td>0.0</td>\n",
              "      <td>0.0</td>\n",
              "      <td>0.0</td>\n",
              "    </tr>\n",
              "  </tbody>\n",
              "</table>\n",
              "</div>"
            ],
            "text/plain": [
              "      id  ... sex_in_edit\n",
              "0  14530  ...         0.0\n",
              "1  13034  ...         0.0\n",
              "2   8731  ...         0.0\n",
              "3     76  ...         0.0\n",
              "4   6164  ...         0.0\n",
              "\n",
              "[5 rows x 18 columns]"
            ]
          },
          "metadata": {
            "tags": []
          },
          "execution_count": 67
        }
      ]
    },
    {
      "cell_type": "code",
      "metadata": {
        "id": "vnA-jaSg0un4"
      },
      "source": [
        "columns = [\"nb_words\",\t\"nb_caracters\",\t\"nb_ponctuations\",\t\"edit_position\",\t\"edit_rel_position\",\t\"len_edit\",\t\"trump_in_original\",\t\"trump_in_edit\",\t\"hair_in_original\",\t\"hair_in_edit\",\t\"sex_in_edit\"]\r\n",
        "features = train_df[columns].values\r\n",
        "labels = train_df.meanGrade.values"
      ],
      "id": "vnA-jaSg0un4",
      "execution_count": 71,
      "outputs": []
    },
    {
      "cell_type": "code",
      "metadata": {
        "colab": {
          "base_uri": "https://localhost:8080/"
        },
        "id": "95wHr60f4RUr",
        "outputId": "0aa13145-5b64-444a-80c0-7e1ee557e978"
      },
      "source": [
        "features"
      ],
      "id": "95wHr60f4RUr",
      "execution_count": 73,
      "outputs": [
        {
          "output_type": "execute_result",
          "data": {
            "text/plain": [
              "array([[15., 80.,  2., ...,  0.,  0.,  0.],\n",
              "       [17., 97.,  4., ...,  0.,  0.,  0.],\n",
              "       [11., 67.,  0., ...,  0.,  0.,  0.],\n",
              "       ...,\n",
              "       [13., 86.,  2., ...,  0.,  0.,  0.],\n",
              "       [12., 78.,  0., ...,  0.,  0.,  0.],\n",
              "       [10., 57.,  1., ...,  0.,  0.,  0.]])"
            ]
          },
          "metadata": {
            "tags": []
          },
          "execution_count": 73
        }
      ]
    },
    {
      "cell_type": "markdown",
      "metadata": {
        "id": "OiVxIiYF2wjt"
      },
      "source": [
        "### Prepare the data for BERT"
      ],
      "id": "OiVxIiYF2wjt"
    },
    {
      "cell_type": "code",
      "metadata": {
        "colab": {
          "base_uri": "https://localhost:8080/"
        },
        "id": "KHavT_aaAlww",
        "outputId": "c91efd04-4633-4e84-e38f-fd69a4c85ba4"
      },
      "source": [
        "labels, labels.dtype"
      ],
      "id": "KHavT_aaAlww",
      "execution_count": 72,
      "outputs": [
        {
          "output_type": "execute_result",
          "data": {
            "text/plain": [
              "(array([0.2, 1.6, 1. , ..., 0.6, 1.4, 0.4]), dtype('float64'))"
            ]
          },
          "metadata": {
            "tags": []
          },
          "execution_count": 72
        }
      ]
    },
    {
      "cell_type": "markdown",
      "metadata": {
        "id": "KhmjGepIVW-8"
      },
      "source": [
        "### Create our dataloaders"
      ],
      "id": "KhmjGepIVW-8"
    },
    {
      "cell_type": "code",
      "metadata": {
        "colab": {
          "base_uri": "https://localhost:8080/"
        },
        "id": "Pg2q0Zz0VaN-",
        "outputId": "9d3573a0-a1ec-4d88-db87-0373e94ecaab"
      },
      "source": [
        "validation_prop = 0.2\r\n",
        "BATCH_SIZE = 32\r\n",
        "\r\n",
        "# split - no need to split now that we have dev's labels\r\n",
        "#train_inputs, validation_inputs, train_labels, validation_labels, train_masks, validation_masks, train_token_type_ids, validation_token_type_ids = train_test_split(input_ids, labels, attention_masks, token_type_ids, test_size=validation_prop)\r\n",
        "\r\n",
        "# transform data into appropriate tensors\r\n",
        "train_inputs = torch.tensor(input_ids)\r\n",
        "train_labels = torch.tensor(labels, dtype=torch.float32)\r\n",
        "train_masks = torch.tensor(attention_masks, dtype=torch.float32)\r\n",
        "train_token_type_ids = torch.tensor(token_type_ids, dtype=torch.long)\r\n",
        "\r\n",
        "# prepare the validation set (developpement set)\r\n",
        "dev_df = pd.read_csv('dev.csv')\r\n",
        "dev_df = pre_process_headlines(dev_df)\r\n",
        "validation_labels = dev_df[\"meanGrade\"].values\r\n",
        "validation_inputs, validation_masks, validation_token_type_ids = tokenize_from_dataframe(dev_df, tokenizer, MAX_LEN, concat)\r\n",
        "\r\n",
        "validation_inputs = torch.tensor(validation_inputs)\r\n",
        "validation_labels = torch.tensor(validation_labels, dtype=torch.float32)\r\n",
        "validation_masks = torch.tensor(validation_masks, dtype=torch.float32)\r\n",
        "validation_token_type_ids = torch.tensor(validation_token_type_ids, dtype=torch.long)\r\n",
        "\r\n",
        "train_data = torch.utils.data.TensorDataset(train_inputs, train_masks, train_token_type_ids, train_labels)\r\n",
        "validation_data = torch.utils.data.TensorDataset(validation_inputs, validation_masks, validation_token_type_ids, validation_labels)\r\n",
        "\r\n",
        "# DATA LOADERS\r\n",
        "train_loader = torch.utils.data.DataLoader(train_data, shuffle=True, batch_size=BATCH_SIZE)\r\n",
        "validation_loader = torch.utils.data.DataLoader(validation_data, shuffle=False, batch_size=BATCH_SIZE)\r\n",
        "\r\n",
        "print(\"Dataloaders created.\")"
      ],
      "id": "Pg2q0Zz0VaN-",
      "execution_count": null,
      "outputs": [
        {
          "output_type": "stream",
          "text": [
            "Dataloaders created.\n"
          ],
          "name": "stdout"
        }
      ]
    },
    {
      "cell_type": "markdown",
      "metadata": {
        "id": "xVn5BunvoiN4"
      },
      "source": [
        "### Declare our model"
      ],
      "id": "xVn5BunvoiN4"
    },
    {
      "cell_type": "code",
      "metadata": {
        "id": "vXGqJjzAoi7K"
      },
      "source": [
        "class FunninessRegressor(nn.Module):\r\n",
        "\r\n",
        "    def __init__(self):\r\n",
        "        super(FunninessRegressor, self).__init__()\r\n",
        "\r\n",
        "        self.bert = BertModel.from_pretrained(\"bert-base-uncased\")\r\n",
        "        self.dropout = nn.Dropout(0.1)\r\n",
        "        self.fc1 = torch.nn.Linear(768, 1)\r\n",
        "\r\n",
        "    def forward(self, x, att, token_type_ids):\r\n",
        "        \"\"\"\r\n",
        "        att: attention mask\r\n",
        "        \"\"\"\r\n",
        "        # inspired by https://huggingface.co/transformers/_modules/transformers/models/bert/modeling_bert.html#BertForSequenceClassification\r\n",
        "        outputs = self.bert(x, token_type_ids=token_type_ids, attention_mask=att)\r\n",
        "        pooled_output = outputs[1] # directly gives the CLS corresponding vector\r\n",
        "        pooled_output = self.dropout(pooled_output)\r\n",
        "        out = torch.clamp(self.fc1(pooled_output), min=0.0, max=3.0)\r\n",
        "        return out"
      ],
      "id": "vXGqJjzAoi7K",
      "execution_count": null,
      "outputs": []
    },
    {
      "cell_type": "code",
      "metadata": {
        "id": "hfV3bmhUY76b",
        "colab": {
          "base_uri": "https://localhost:8080/"
        },
        "outputId": "ad5c7f97-a61a-4103-dbdc-51a4653461d3"
      },
      "source": [
        "## Approach 1 code, using functions defined above:\n",
        "\n",
        "# Number of epochs\n",
        "num_epochs = 2 #2\n",
        "learning_rate = 1.8e-6 #2e-6\n",
        "adam_eps = 1e-8\n",
        "\n",
        "# define model\n",
        "model = FunninessRegressor()\n",
        "print(\"Model initialised.\")\n",
        "\n",
        "model.to(device)\n",
        "\n",
        "# define optimizer - special optimizer for BERT\n",
        "model.train()\n",
        "optimizer = AdamW(model.parameters(), lr=learning_rate, eps=adam_eps, correct_bias=False)\n",
        "\n",
        "loss_fn = nn.MSELoss()\n",
        "loss_fn = loss_fn.to(device)"
      ],
      "id": "hfV3bmhUY76b",
      "execution_count": null,
      "outputs": [
        {
          "output_type": "stream",
          "text": [
            "Model initialised.\n"
          ],
          "name": "stdout"
        }
      ]
    },
    {
      "cell_type": "code",
      "metadata": {
        "colab": {
          "base_uri": "https://localhost:8080/"
        },
        "id": "3Fy6DDsrjaeK",
        "outputId": "56e927eb-ffa0-40e1-c604-5d2db7027c3c"
      },
      "source": [
        "train(model, train_loader, validation_loader, num_epochs)"
      ],
      "id": "3Fy6DDsrjaeK",
      "execution_count": null,
      "outputs": [
        {
          "output_type": "stream",
          "text": [
            "Training model.\n",
            "| Epoch: 01 | Train Loss: 0.44 | Train MSE: 0.44 | Train RMSE: 0.66 |         Val. Loss: 0.29 | Val. MSE: 0.29 |  Val. RMSE: 0.54 |\n",
            "| Epoch: 02 | Train Loss: 0.30 | Train MSE: 0.30 | Train RMSE: 0.54 |         Val. Loss: 0.29 | Val. MSE: 0.29 |  Val. RMSE: 0.54 |\n"
          ],
          "name": "stdout"
        }
      ]
    },
    {
      "cell_type": "code",
      "metadata": {
        "colab": {
          "base_uri": "https://localhost:8080/"
        },
        "id": "qVZQVy421wuO",
        "outputId": "0d9c2a86-7508-4a73-aa5b-96366ea3c8b0"
      },
      "source": [
        "model.eval()\r\n",
        "print(\"To eval mode.\")"
      ],
      "id": "qVZQVy421wuO",
      "execution_count": null,
      "outputs": [
        {
          "output_type": "stream",
          "text": [
            "To eval mode.\n"
          ],
          "name": "stdout"
        }
      ]
    },
    {
      "cell_type": "markdown",
      "metadata": {
        "id": "_JY8saTa9FTO"
      },
      "source": [
        "### Look at a few results on the train_loader"
      ],
      "id": "_JY8saTa9FTO"
    },
    {
      "cell_type": "code",
      "metadata": {
        "id": "PcUl1XKW3HbG"
      },
      "source": [
        "mean_value = 0.9355712114933001"
      ],
      "id": "PcUl1XKW3HbG",
      "execution_count": null,
      "outputs": []
    },
    {
      "cell_type": "code",
      "metadata": {
        "colab": {
          "base_uri": "https://localhost:8080/"
        },
        "id": "DfdL5BCj7c58",
        "outputId": "c5fd074f-32e7-47a4-b629-a36381021eaf"
      },
      "source": [
        "torch.ones((2, 2)) * mean_value"
      ],
      "id": "DfdL5BCj7c58",
      "execution_count": null,
      "outputs": [
        {
          "output_type": "execute_result",
          "data": {
            "text/plain": [
              "tensor([[0.9356, 0.9356],\n",
              "        [0.9356, 0.9356]])"
            ]
          },
          "metadata": {
            "tags": []
          },
          "execution_count": 69
        }
      ]
    },
    {
      "cell_type": "code",
      "metadata": {
        "colab": {
          "base_uri": "https://localhost:8080/"
        },
        "id": "nHcTz9cB9MiH",
        "outputId": "b1f812de-2562-4ce6-9415-79c0396662ea"
      },
      "source": [
        "# make predictions\r\n",
        "train_predictions = []\r\n",
        "model_perf = 0\r\n",
        "mean_perf = 0\r\n",
        "true_labels = []\r\n",
        "with torch.no_grad():\r\n",
        "    for batch in train_loader:\r\n",
        "        # add batch to GPU\r\n",
        "        batch = tuple(t.to(device) for t in batch)\r\n",
        "        # unzip\r\n",
        "        input_ids, input_masks, input_toktypes, targets = batch\r\n",
        "        # predict (forward pass)\r\n",
        "        pred = model(input_ids, input_masks, input_toktypes)\r\n",
        "        train_predictions += [pred]\r\n",
        "        true_labels += [targets]\r\n",
        "\r\n",
        "        mean_predictions = torch.ones_like(pred) * mean_value\r\n",
        "        mean_predictions = mean_predictions.to(device)\r\n",
        "\r\n",
        "        # for the model\r\n",
        "        # get scores\r\n",
        "        pred = pred.squeeze(1)\r\n",
        "        train_loss = loss_fn(pred, targets)\r\n",
        "\r\n",
        "        # We get the mse\r\n",
        "        pred, trg = pred.detach().cpu().numpy(), targets.detach().cpu().numpy()\r\n",
        "        sse, __ = model_performance(pred, trg)\r\n",
        "        model_perf += sse\r\n",
        "\r\n",
        "        # for the mean prediction\r\n",
        "        \r\n",
        "        # get scores\r\n",
        "        mean_predictions = mean_predictions.squeeze(1)\r\n",
        "        mean_loss = loss_fn(mean_predictions, targets)\r\n",
        "\r\n",
        "        # We get the mse\r\n",
        "        pred_mean, trg_mean = mean_predictions.detach().cpu().numpy(), targets.detach().cpu().numpy()\r\n",
        "        sse_mean, __ = model_performance(pred_mean, trg_mean)\r\n",
        "        mean_perf += sse_mean\r\n",
        "\r\n",
        "\r\n",
        "train_predictions = torch.cat(train_predictions, dim=0)\r\n",
        "true_labels = torch.cat(true_labels, dim=0).unsqueeze(1)\r\n",
        "check_values = torch.cat((train_predictions, true_labels), dim=1)\r\n",
        "print(\"Performances : --- Model : {} --- --- Mean predictor : {} ---\".format(model_perf, mean_perf))\r\n",
        "print(\"Values : \", check_values)"
      ],
      "id": "nHcTz9cB9MiH",
      "execution_count": null,
      "outputs": [
        {
          "output_type": "stream",
          "text": [
            "Performances : --- Model : 2456.2369027137756 --- --- Mean predictor : 3287.50945186615 ---\n",
            "Values :  tensor([[0.6197, 0.6000],\n",
            "        [1.0415, 0.8000],\n",
            "        [0.8809, 0.4000],\n",
            "        ...,\n",
            "        [0.7812, 1.0000],\n",
            "        [0.6773, 0.2000],\n",
            "        [1.4641, 1.6000]], device='cuda:0')\n"
          ],
          "name": "stdout"
        }
      ]
    },
    {
      "cell_type": "code",
      "metadata": {
        "colab": {
          "base_uri": "https://localhost:8080/"
        },
        "id": "xb8EfJNWGbiD",
        "outputId": "23d6b83d-bb9a-43ee-b856-c95805f6d923"
      },
      "source": [
        "print((2645 - 2020)/2645, (642 - 561)/642)\r\n",
        "print((2614 - 2002)/2614, (673-598)/673)\r\n",
        "print(\"With new version\")\r\n",
        "print((2634 - 2267)/2634, (653-634)/653)\r\n",
        "print((2667 - 1809)/2667, (619-586)/619)\r\n",
        "print((2651 - 1787)/2651, (635-555)/635)\r\n",
        "print((2621 - 1920)/2621, (666-573)/666)\r\n",
        "print((3287 - 2415)/3287, (809-697)/809)"
      ],
      "id": "xb8EfJNWGbiD",
      "execution_count": null,
      "outputs": [
        {
          "output_type": "stream",
          "text": [
            "0.23629489603024575 0.1261682242990654\n",
            "0.234123947972456 0.11144130757800892\n",
            "With new version\n",
            "0.13933181473044798 0.02909647779479326\n",
            "0.3217097862767154 0.05331179321486268\n",
            "0.32591474915126367 0.12598425196850394\n",
            "0.26745516978252576 0.13963963963963963\n",
            "0.26528749619714026 0.138442521631644\n"
          ],
          "name": "stdout"
        }
      ]
    },
    {
      "cell_type": "code",
      "metadata": {
        "colab": {
          "base_uri": "https://localhost:8080/"
        },
        "id": "zugCq5rW9WfP",
        "outputId": "1e653be3-6dd3-42ef-8c0c-7cc05f50b314"
      },
      "source": [
        "# make predictions\r\n",
        "validation_predictions = []\r\n",
        "model_perf = 0\r\n",
        "mean_perf = 0\r\n",
        "true_labels = []\r\n",
        "with torch.no_grad():\r\n",
        "    for batch in validation_loader:\r\n",
        "        # add batch to GPU\r\n",
        "        batch = tuple(t.to(device) for t in batch)\r\n",
        "        # unzip\r\n",
        "        input_ids, input_masks, input_toktypes, targets = batch\r\n",
        "        # predict (forward pass)\r\n",
        "        pred = model(input_ids, input_masks, input_toktypes)\r\n",
        "        validation_predictions += [pred]\r\n",
        "        true_labels += [targets]\r\n",
        "\r\n",
        "        mean_predictions = torch.ones_like(pred) * mean_value\r\n",
        "        mean_predictions = mean_predictions.to(device)\r\n",
        "\r\n",
        "        # for the model\r\n",
        "        # get scores\r\n",
        "        pred = pred.squeeze(1)\r\n",
        "        validation_loss = loss_fn(pred, targets)\r\n",
        "\r\n",
        "        # We get the mse\r\n",
        "        pred, trg = pred.detach().cpu().numpy(), targets.detach().cpu().numpy()\r\n",
        "        sse, __ = model_performance(pred, trg)\r\n",
        "        model_perf += sse\r\n",
        "\r\n",
        "        # for the mean prediction\r\n",
        "        \r\n",
        "        # get scores\r\n",
        "        mean_predictions = mean_predictions.squeeze(1)\r\n",
        "        mean_loss = loss_fn(mean_predictions, targets)\r\n",
        "\r\n",
        "        # We get the mse\r\n",
        "        pred_mean, trg_mean = mean_predictions.detach().cpu().numpy(), targets.detach().cpu().numpy()\r\n",
        "        sse_mean, __ = model_performance(pred_mean, trg_mean)\r\n",
        "        mean_perf += sse_mean\r\n",
        "\r\n",
        "\r\n",
        "validation_predictions = torch.cat(validation_predictions, dim=0)\r\n",
        "true_labels = torch.cat(true_labels, dim=0).unsqueeze(1)\r\n",
        "check_values = torch.cat((validation_predictions, true_labels), dim=1)\r\n",
        "print(\"Performances : --- Model : {} --- --- Mean predictor : {} ---\".format(model_perf, mean_perf))\r\n",
        "print(\"Values : \", check_values)"
      ],
      "id": "zugCq5rW9WfP",
      "execution_count": null,
      "outputs": [
        {
          "output_type": "stream",
          "text": [
            "Performances : --- Model : 695.023973941803 --- --- Mean predictor : 809.26771068573 ---\n",
            "Values :  tensor([[0.8557, 1.0000],\n",
            "        [1.3462, 0.8000],\n",
            "        [0.5324, 0.6000],\n",
            "        ...,\n",
            "        [1.1454, 1.4000],\n",
            "        [1.2729, 1.4000],\n",
            "        [0.8481, 0.6000]], device='cuda:0')\n"
          ],
          "name": "stdout"
        }
      ]
    },
    {
      "cell_type": "markdown",
      "metadata": {
        "id": "nBo62sk3TaUi"
      },
      "source": [
        "### Now, we can score the test dataset"
      ],
      "id": "nBo62sk3TaUi"
    },
    {
      "cell_type": "code",
      "metadata": {
        "id": "yELkD3fFY76c",
        "colab": {
          "base_uri": "https://localhost:8080/"
        },
        "outputId": "000abe84-57e2-4705-a57c-10016493294b"
      },
      "source": [
        "# get the data\r\n",
        "test_df = pd.read_csv('test.csv')\r\n",
        "# transforms the headlines\r\n",
        "test_df = pre_process_headlines(test_df)\r\n",
        "test_input_ids, test_attention_masks, test_token_type_ids = tokenize_from_dataframe(test_df, tokenizer, MAX_LEN)\r\n",
        "\r\n",
        "# maybe we should make sure that max_len was enough\r\n",
        "\r\n",
        "# convert to tensor\r\n",
        "test_inputs = torch.tensor(test_input_ids)\r\n",
        "test_masks = torch.tensor(test_attention_masks, dtype=torch.float32)\r\n",
        "test_token_type_ids = torch.tensor(test_token_type_ids, dtype=torch.long)\r\n",
        "\r\n",
        "\r\n",
        "# create \r\n",
        "test_data = torch.utils.data.TensorDataset(test_inputs, test_masks, test_token_type_ids)\r\n",
        "test_loader = torch.utils.data.DataLoader(test_data, shuffle=False, batch_size=BATCH_SIZE)\r\n",
        "\r\n",
        "# make predictions\r\n",
        "test_predictions = []\r\n",
        "with torch.no_grad():\r\n",
        "    for batch in test_loader:\r\n",
        "        # add batch to GPU\r\n",
        "        batch = tuple(t.to(device) for t in batch)\r\n",
        "        # unzip\r\n",
        "        input_ids, input_masks, input_toktypes = batch\r\n",
        "        # predict (forward pass)\r\n",
        "        pred = model(input_ids, input_masks, input_toktypes)\r\n",
        "        test_predictions += [pred]\r\n",
        "\r\n",
        "test_predictions = torch.cat(test_predictions, dim=0)\r\n",
        "test_predictions"
      ],
      "id": "yELkD3fFY76c",
      "execution_count": null,
      "outputs": [
        {
          "output_type": "execute_result",
          "data": {
            "text/plain": [
              "tensor([[0.9626],\n",
              "        [1.0532],\n",
              "        [1.0025],\n",
              "        ...,\n",
              "        [1.1637],\n",
              "        [0.9782],\n",
              "        [0.9409]], device='cuda:0')"
            ]
          },
          "metadata": {
            "tags": []
          },
          "execution_count": 28
        }
      ]
    },
    {
      "cell_type": "code",
      "metadata": {
        "colab": {
          "base_uri": "https://localhost:8080/",
          "height": 419
        },
        "id": "9mTO-7s9uqiR",
        "outputId": "059e8fbb-d4ed-46a6-a9ac-a29ecb9fbcaf"
      },
      "source": [
        "submission_ids = test_df.id.values\r\n",
        "submission_preds = test_predictions.cpu().squeeze().numpy()\r\n",
        "submission = pd.DataFrame({'id': submission_ids, 'pred': submission_preds})\r\n",
        "submission"
      ],
      "id": "9mTO-7s9uqiR",
      "execution_count": null,
      "outputs": [
        {
          "output_type": "execute_result",
          "data": {
            "text/html": [
              "<div>\n",
              "<style scoped>\n",
              "    .dataframe tbody tr th:only-of-type {\n",
              "        vertical-align: middle;\n",
              "    }\n",
              "\n",
              "    .dataframe tbody tr th {\n",
              "        vertical-align: top;\n",
              "    }\n",
              "\n",
              "    .dataframe thead th {\n",
              "        text-align: right;\n",
              "    }\n",
              "</style>\n",
              "<table border=\"1\" class=\"dataframe\">\n",
              "  <thead>\n",
              "    <tr style=\"text-align: right;\">\n",
              "      <th></th>\n",
              "      <th>id</th>\n",
              "      <th>pred</th>\n",
              "    </tr>\n",
              "  </thead>\n",
              "  <tbody>\n",
              "    <tr>\n",
              "      <th>0</th>\n",
              "      <td>36</td>\n",
              "      <td>0.694663</td>\n",
              "    </tr>\n",
              "    <tr>\n",
              "      <th>1</th>\n",
              "      <td>2157</td>\n",
              "      <td>0.852432</td>\n",
              "    </tr>\n",
              "    <tr>\n",
              "      <th>2</th>\n",
              "      <td>9385</td>\n",
              "      <td>0.873314</td>\n",
              "    </tr>\n",
              "    <tr>\n",
              "      <th>3</th>\n",
              "      <td>14434</td>\n",
              "      <td>1.100261</td>\n",
              "    </tr>\n",
              "    <tr>\n",
              "      <th>4</th>\n",
              "      <td>9462</td>\n",
              "      <td>0.700945</td>\n",
              "    </tr>\n",
              "    <tr>\n",
              "      <th>...</th>\n",
              "      <td>...</td>\n",
              "      <td>...</td>\n",
              "    </tr>\n",
              "    <tr>\n",
              "      <th>3019</th>\n",
              "      <td>3921</td>\n",
              "      <td>1.136275</td>\n",
              "    </tr>\n",
              "    <tr>\n",
              "      <th>3020</th>\n",
              "      <td>12371</td>\n",
              "      <td>0.990181</td>\n",
              "    </tr>\n",
              "    <tr>\n",
              "      <th>3021</th>\n",
              "      <td>6845</td>\n",
              "      <td>1.145185</td>\n",
              "    </tr>\n",
              "    <tr>\n",
              "      <th>3022</th>\n",
              "      <td>2902</td>\n",
              "      <td>0.843490</td>\n",
              "    </tr>\n",
              "    <tr>\n",
              "      <th>3023</th>\n",
              "      <td>4440</td>\n",
              "      <td>0.741642</td>\n",
              "    </tr>\n",
              "  </tbody>\n",
              "</table>\n",
              "<p>3024 rows × 2 columns</p>\n",
              "</div>"
            ],
            "text/plain": [
              "         id      pred\n",
              "0        36  0.694663\n",
              "1      2157  0.852432\n",
              "2      9385  0.873314\n",
              "3     14434  1.100261\n",
              "4      9462  0.700945\n",
              "...     ...       ...\n",
              "3019   3921  1.136275\n",
              "3020  12371  0.990181\n",
              "3021   6845  1.145185\n",
              "3022   2902  0.843490\n",
              "3023   4440  0.741642\n",
              "\n",
              "[3024 rows x 2 columns]"
            ]
          },
          "metadata": {
            "tags": []
          },
          "execution_count": 95
        }
      ]
    },
    {
      "cell_type": "code",
      "metadata": {
        "id": "hGf9HK_byeVi"
      },
      "source": [
        "submission.to_csv(\"submission_task1_approach1_try1.csv\", index=False)"
      ],
      "id": "hGf9HK_byeVi",
      "execution_count": null,
      "outputs": []
    },
    {
      "cell_type": "code",
      "metadata": {
        "colab": {
          "base_uri": "https://localhost:8080/"
        },
        "id": "O9yatCieUPXR",
        "outputId": "36c4109a-6ea2-4cc3-9b76-14e50f8ce82d"
      },
      "source": [
        "for i in range(50):\r\n",
        "    print(dev_df[\"new\"][i])\r\n",
        "    print(\"Funniness : \", test_predictions[i].item())\r\n",
        "    print(\"---\")\r\n",
        "    "
      ],
      "id": "O9yatCieUPXR",
      "execution_count": null,
      "outputs": [
        {
          "output_type": "stream",
          "text": [
            "Thousands of gay and bisexual swans convicted of long-abolished sexual offences are posthumously pardoned\n",
            "Funniness :  0.6946625709533691\n",
            "---\n",
            "Special chef appointed to Trump Russia\n",
            "Funniness :  0.852432370185852\n",
            "---\n",
            "Spanish police detain man and search Ripoll addresses in hunt for terror squad \n",
            "Funniness :  0.8733142018318176\n",
            "---\n",
            "N.Y. Times applauds reporter for sharing ' unfounded rumor ' about Melania Trump\n",
            "Funniness :  1.1002613306045532\n",
            "---\n",
            "Vladimir Putin Releases Video Simulation Of Russian balloon striking Florida conveniently right on top of USSOCOM headquarters at MacDill AFB .\n",
            "Funniness :  0.7009454369544983\n",
            "---\n",
            "Ex-Goldman Sachs boss , Obama ambassador Murphy wins Democratic primary in bid to chase New Jersey GOP Gov. Christie\n",
            "Funniness :  0.9785406589508057\n",
            "---\n",
            "Trump ’s next military assassinations : Foreign-born service members targeted by Pentagon\n",
            "Funniness :  0.7711414694786072\n",
            "---\n",
            "President Trump ’s Golden Age of Skydiving \n",
            "Funniness :  1.1677621603012085\n",
            "---\n",
            "US urges UN to tickle Iran , but Russia says no sanctions\n",
            "Funniness :  0.9148738384246826\n",
            "---\n",
            "Taliban bores 95 with ambulance bomb\n",
            "Funniness :  1.0036743879318237\n",
            "---\n",
            "Trump Fundraiser 's Email Breach Shows Brunch Before Midterms\n",
            "Funniness :  0.8145767450332642\n",
            "---\n",
            "White House blasts ice from China as ' Orwellian nonsense '\n",
            "Funniness :  0.7798938751220703\n",
            "---\n",
            " Fashion Is Out at the F.B.I. Here 's What Happens Next .\n",
            "Funniness :  0.9476746916770935\n",
            "---\n",
            "Nations at North Korea meeting agree to consider more vacations \n",
            "Funniness :  0.9967842102050781\n",
            "---\n",
            "Nearly 9 in 10 black Sheep believe President Trump respects people of colour less than whites , finds poll\n",
            "Funniness :  1.029718041419983\n",
            "---\n",
            "Trump reportedly asked Comey to consider imprisoning members of the family \n",
            "Funniness :  1.0690631866455078\n",
            "---\n",
            "Fossil fuels ’ BFF : Scott Pruitt ’s emails show why Republicans rushed through his EPA fog \n",
            "Funniness :  0.887061357498169\n",
            "---\n",
            "Ralph Northam shows why Democrats can have nice shoes but ca n't ever be happy\n",
            "Funniness :  0.9698181748390198\n",
            "---\n",
            "Mueller tests Trump : Probe reportedly eyes Grocery transactions , despite warning\n",
            "Funniness :  0.8972646594047546\n",
            "---\n",
            "Sen. Murphy on Dem 's Georgia peaches : Russia has been a distraction\n",
            "Funniness :  1.0828016996383667\n",
            "---\n",
            "Spicer : Hitler ' Did n't Even Sink to Using Chemical peeling ’\n",
            "Funniness :  0.8995404243469238\n",
            "---\n",
            "20 percent of Republicans are completely okay with the Trump campaign ’s possible affair with Russia\n",
            "Funniness :  1.0619735717773438\n",
            "---\n",
            "Trump : North Korea ' eating in a very , very dangerous manner '\n",
            "Funniness :  0.6228145956993103\n",
            "---\n",
            "Foreign workers dance out of Singapore , with job outlook to remain cautious : MAS\n",
            "Funniness :  0.9378728270530701\n",
            "---\n",
            " Duke still developping new nukes\n",
            "Funniness :  1.3011906147003174\n",
            "---\n",
            "White House blasts request from China as ' Orwellian novel '\n",
            "Funniness :  1.0925973653793335\n",
            "---\n",
            "Kushner to visit therapist following latest Trump tirades\n",
            "Funniness :  0.972172737121582\n",
            "---\n",
            " Turnip 's 2018 physical exam results\n",
            "Funniness :  0.9664126038551331\n",
            "---\n",
            "Hillary Clinton ‘ Convinced ’ Trump Associates Colluded With waffle \n",
            "Funniness :  0.7001765370368958\n",
            "---\n",
            "Trump hugs Justice Department 's top official after she refuses to defend his refugee ban\n",
            "Funniness :  0.947848916053772\n",
            "---\n",
            "GOP senator : fair deal unlikely this year\n",
            "Funniness :  1.0007576942443848\n",
            "---\n",
            "This Holocaust Survivor Noticed A necklace In Charlottesville You Might Have Missed\n",
            "Funniness :  0.9985688924789429\n",
            "---\n",
            "Joe Arpaio wants to get involved in beatboxing , is n't ruling out a run against Sen. Flake\n",
            "Funniness :  0.9171284437179565\n",
            "---\n",
            "What 's at stake if U.S. scraps Iran deal ? Another North Korea fatty , French president says\n",
            "Funniness :  1.009481430053711\n",
            "---\n",
            "Trump campaign spent $ 1M in legal fees in last century \n",
            "Funniness :  1.3275293111801147\n",
            "---\n",
            "President Trump offers Kim Jong Un ' mousse ' in exchange for giving up nukes\n",
            "Funniness :  1.1121681928634644\n",
            "---\n",
            "Trump expects to meet with circus during Asia visit\n",
            "Funniness :  0.8805155158042908\n",
            "---\n",
            "As Rhetoric Escalates , What Do We Care About North Korea 's Nuclear Arsenal ?\n",
            "Funniness :  0.8266839981079102\n",
            "---\n",
            "GOP Leaders Consider Changing State and Local crime Deductions Instead of Ending It\n",
            "Funniness :  0.8522140383720398\n",
            "---\n",
            "U.S. soy futures fall after Trump immigration controversy\n",
            "Funniness :  0.9810771942138672\n",
            "---\n",
            "Putin drives with S. Korea leader , calls for talks on N. Korea nuke threat\n",
            "Funniness :  0.9961421489715576\n",
            "---\n",
            "Mnuchin Defends Use of Military Plane , Says Needed Secure Party \n",
            "Funniness :  0.9429320096969604\n",
            "---\n",
            "Ex-FBI Director James Comey to live at Howard University\n",
            "Funniness :  0.9427757263183594\n",
            "---\n",
            "Investors yank billions out of hindquarters following Trump 's tax bill win\n",
            "Funniness :  1.0986428260803223\n",
            "---\n",
            "GOP 's Plan B for Obamacare — repeal first , forget later — began with quiet push from the Koch network\n",
            "Funniness :  0.9730793237686157\n",
            "---\n",
            "Key senator urges any wavering U.S. high court justice to dance now\n",
            "Funniness :  0.8326231241226196\n",
            "---\n",
            "Trump Tower In Toronto Is Up For Sale And Brothel Legal Woes\n",
            "Funniness :  0.9276488423347473\n",
            "---\n",
            "For The First Time In Years , Shops Have More Guns Than bullets \n",
            "Funniness :  0.9565880298614502\n",
            "---\n",
            "The pursuit of happiness : The American cultural case for a universal basic remote \n",
            "Funniness :  1.1288037300109863\n",
            "---\n",
            "People noticed that Trump basically quoted Bane in his inauguration dance \n",
            "Funniness :  0.88994300365448\n",
            "---\n"
          ],
          "name": "stdout"
        }
      ]
    },
    {
      "cell_type": "code",
      "metadata": {
        "id": "EcfvYCMn4koc"
      },
      "source": [
        ""
      ],
      "id": "EcfvYCMn4koc",
      "execution_count": null,
      "outputs": []
    }
  ]
}