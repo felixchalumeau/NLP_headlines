{
  "nbformat": 4,
  "nbformat_minor": 5,
  "metadata": {
    "kernelspec": {
      "display_name": "Python 3",
      "language": "python",
      "name": "python3"
    },
    "language_info": {
      "codemirror_mode": {
        "name": "ipython",
        "version": 3
      },
      "file_extension": ".py",
      "mimetype": "text/x-python",
      "name": "python",
      "nbconvert_exporter": "python",
      "pygments_lexer": "ipython3",
      "version": "3.8.5"
    },
    "colab": {
      "name": "fe_playground.ipynb",
      "provenance": [],
      "collapsed_sections": []
    },
    "accelerator": "GPU"
  },
  "cells": [
    {
      "cell_type": "markdown",
      "metadata": {
        "id": "Q_qUgPYzpMPB"
      },
      "source": [
        "### Load libraries"
      ],
      "id": "Q_qUgPYzpMPB"
    },
    {
      "cell_type": "code",
      "metadata": {
        "id": "cRO6hDwZY76Q"
      },
      "source": [
        "import torch\n",
        "import torch.nn as nn\n",
        "import pandas as pd\n",
        "import numpy as np\n",
        "from sklearn.model_selection import train_test_split"
      ],
      "id": "cRO6hDwZY76Q",
      "execution_count": null,
      "outputs": []
    },
    {
      "cell_type": "code",
      "metadata": {
        "colab": {
          "base_uri": "https://localhost:8080/"
        },
        "id": "J0905KiZZQsW",
        "outputId": "8b62cb28-45bc-46c4-a035-7cebd04770b0"
      },
      "source": [
        "!pip install transformers\r\n",
        "from transformers import BertTokenizer, BertModel, AdamW"
      ],
      "id": "J0905KiZZQsW",
      "execution_count": null,
      "outputs": [
        {
          "output_type": "stream",
          "text": [
            "Requirement already satisfied: transformers in /usr/local/lib/python3.7/dist-packages (4.3.3)\n",
            "Requirement already satisfied: tokenizers<0.11,>=0.10.1 in /usr/local/lib/python3.7/dist-packages (from transformers) (0.10.1)\n",
            "Requirement already satisfied: numpy>=1.17 in /usr/local/lib/python3.7/dist-packages (from transformers) (1.19.5)\n",
            "Requirement already satisfied: tqdm>=4.27 in /usr/local/lib/python3.7/dist-packages (from transformers) (4.41.1)\n",
            "Requirement already satisfied: filelock in /usr/local/lib/python3.7/dist-packages (from transformers) (3.0.12)\n",
            "Requirement already satisfied: importlib-metadata; python_version < \"3.8\" in /usr/local/lib/python3.7/dist-packages (from transformers) (3.4.0)\n",
            "Requirement already satisfied: packaging in /usr/local/lib/python3.7/dist-packages (from transformers) (20.9)\n",
            "Requirement already satisfied: sacremoses in /usr/local/lib/python3.7/dist-packages (from transformers) (0.0.43)\n",
            "Requirement already satisfied: regex!=2019.12.17 in /usr/local/lib/python3.7/dist-packages (from transformers) (2019.12.20)\n",
            "Requirement already satisfied: requests in /usr/local/lib/python3.7/dist-packages (from transformers) (2.23.0)\n",
            "Requirement already satisfied: typing-extensions>=3.6.4; python_version < \"3.8\" in /usr/local/lib/python3.7/dist-packages (from importlib-metadata; python_version < \"3.8\"->transformers) (3.7.4.3)\n",
            "Requirement already satisfied: zipp>=0.5 in /usr/local/lib/python3.7/dist-packages (from importlib-metadata; python_version < \"3.8\"->transformers) (3.4.0)\n",
            "Requirement already satisfied: pyparsing>=2.0.2 in /usr/local/lib/python3.7/dist-packages (from packaging->transformers) (2.4.7)\n",
            "Requirement already satisfied: joblib in /usr/local/lib/python3.7/dist-packages (from sacremoses->transformers) (1.0.1)\n",
            "Requirement already satisfied: six in /usr/local/lib/python3.7/dist-packages (from sacremoses->transformers) (1.15.0)\n",
            "Requirement already satisfied: click in /usr/local/lib/python3.7/dist-packages (from sacremoses->transformers) (7.1.2)\n",
            "Requirement already satisfied: urllib3!=1.25.0,!=1.25.1,<1.26,>=1.21.1 in /usr/local/lib/python3.7/dist-packages (from requests->transformers) (1.24.3)\n",
            "Requirement already satisfied: chardet<4,>=3.0.2 in /usr/local/lib/python3.7/dist-packages (from requests->transformers) (3.0.4)\n",
            "Requirement already satisfied: idna<3,>=2.5 in /usr/local/lib/python3.7/dist-packages (from requests->transformers) (2.10)\n",
            "Requirement already satisfied: certifi>=2017.4.17 in /usr/local/lib/python3.7/dist-packages (from requests->transformers) (2020.12.5)\n"
          ],
          "name": "stdout"
        }
      ]
    },
    {
      "cell_type": "markdown",
      "metadata": {
        "id": "2YjYKR2dpTWB"
      },
      "source": [
        "### Handle device (CPU or GPU)"
      ],
      "id": "2YjYKR2dpTWB"
    },
    {
      "cell_type": "code",
      "metadata": {
        "colab": {
          "base_uri": "https://localhost:8080/"
        },
        "id": "45guyUHNY76U",
        "outputId": "0903500a-c2dd-426d-b122-e5820072df2b"
      },
      "source": [
        "SEED = 1\n",
        "\n",
        "torch.manual_seed(SEED)\n",
        "torch.cuda.manual_seed(SEED)\n",
        "torch.backends.cudnn.deterministic = True\n",
        "\n",
        "use_cuda = torch.cuda.is_available()\n",
        "device = torch.device(\"cuda:0\" if use_cuda else \"cpu\")\n",
        "print(\"Use : \", device)\n"
      ],
      "id": "45guyUHNY76U",
      "execution_count": null,
      "outputs": [
        {
          "output_type": "stream",
          "text": [
            "Use :  cuda:0\n"
          ],
          "name": "stdout"
        }
      ]
    },
    {
      "cell_type": "markdown",
      "metadata": {
        "id": "uFiOdnZvpc_Y"
      },
      "source": [
        "### Define all the \"utils\" functions"
      ],
      "id": "uFiOdnZvpc_Y"
    },
    {
      "cell_type": "code",
      "metadata": {
        "id": "huupYxqXY76Y"
      },
      "source": [
        "# We define our training loop\n",
        "def train(model, train_iter, validation_iter, number_epoch):\n",
        "    \"\"\"\n",
        "    Training loop for the model, which calls on eval to evaluate after each epoch\n",
        "    \"\"\"\n",
        "\n",
        "    print(\"Training model.\")\n",
        "\n",
        "    for epoch in range(1, number_epoch + 1):\n",
        "        model.train()\n",
        "        epoch_loss = 0\n",
        "        epoch_sse = 0\n",
        "        no_observations = 0  # Observations used for training so far\n",
        "\n",
        "        for batch in train_iter:\n",
        "            # add batch to GPU\n",
        "            batch = tuple(t.to(device) for t in batch)\n",
        "            # unzip\n",
        "            input_ids, input_masks, targets = batch\n",
        "            # predict (forward pass)\n",
        "            predictions = model(input_ids, input_masks)\n",
        "            predictions = predictions.squeeze(1)\n",
        "\n",
        "            optimizer.zero_grad()\n",
        "\n",
        "            loss = loss_fn(predictions, targets)\n",
        "\n",
        "            sse, __ = model_performance(predictions.detach().cpu().numpy(), targets.detach().cpu().numpy())\n",
        "\n",
        "            # Backpropagate and optimize\n",
        "            loss.backward()\n",
        "            torch.nn.utils.clip_grad_norm_(model.parameters(), 1.0)\n",
        "            optimizer.step()\n",
        "\n",
        "            # update metrics\n",
        "            no_observations = no_observations + targets.shape[0]\n",
        "            epoch_loss += loss.item() * targets.shape[0]\n",
        "            epoch_sse += sse\n",
        "\n",
        "        valid_loss, valid_mse, __, __ = eval(validation_iter, model)\n",
        "\n",
        "        epoch_loss, epoch_mse = epoch_loss / no_observations, epoch_sse / no_observations\n",
        "        print(f'| Epoch: {epoch:02} | Train Loss: {epoch_loss:.2f} | Train MSE: {epoch_mse:.2f} | Train RMSE: {epoch_mse**0.5:.2f} | \\\n",
        "        Val. Loss: {valid_loss:.2f} | Val. MSE: {valid_mse:.2f} |  Val. RMSE: {valid_mse**0.5:.2f} |')"
      ],
      "id": "huupYxqXY76Y",
      "execution_count": null,
      "outputs": []
    },
    {
      "cell_type": "code",
      "metadata": {
        "id": "Xr11jwCmY76Z"
      },
      "source": [
        "# We evaluate performance on our dev set\n",
        "def eval(data_iter, model):\n",
        "    \"\"\"\n",
        "    Evaluating model performance on the dev set\n",
        "    \"\"\"\n",
        "    model.eval()\n",
        "    epoch_loss = 0\n",
        "    epoch_sse = 0\n",
        "    pred_all = []\n",
        "    trg_all = []\n",
        "    no_observations = 0\n",
        "\n",
        "    with torch.no_grad():\n",
        "        for batch in data_iter:\n",
        "            # add batch to GPU\n",
        "            batch = tuple(t.to(device) for t in batch)\n",
        "            # unzip\n",
        "            input_ids, input_masks, targets = batch\n",
        "            # predict (forward pass)\n",
        "            predictions = model(input_ids, input_masks)\n",
        "\n",
        "            predictions = predictions.squeeze(1)\n",
        "            loss = loss_fn(predictions, targets)\n",
        "\n",
        "            # We get the mse\n",
        "            pred, trg = predictions.detach().cpu().numpy(), targets.detach().cpu().numpy()\n",
        "            sse, __ = model_performance(pred, trg)\n",
        "\n",
        "            no_observations = no_observations + targets.shape[0]\n",
        "            epoch_loss += loss.item() * targets.shape[0]\n",
        "            epoch_sse += sse\n",
        "            pred_all.extend(pred)\n",
        "            trg_all.extend(trg)\n",
        "\n",
        "    return epoch_loss/no_observations, epoch_sse/no_observations, np.array(pred_all), np.array(trg_all)"
      ],
      "id": "Xr11jwCmY76Z",
      "execution_count": null,
      "outputs": []
    },
    {
      "cell_type": "code",
      "metadata": {
        "id": "XVaiqfJcY76Z"
      },
      "source": [
        "# How we print the model performance\n",
        "def model_performance(output, target, print_output=False):\n",
        "    \"\"\"\n",
        "    Returns SSE and MSE per batch (printing the MSE and the RMSE)\n",
        "    \"\"\"\n",
        "\n",
        "    sq_error = (output - target)**2\n",
        "\n",
        "    sse = np.sum(sq_error)\n",
        "    mse = np.mean(sq_error)\n",
        "    rmse = np.sqrt(mse)\n",
        "\n",
        "    if print_output:\n",
        "        print(f'| MSE: {mse:.2f} | RMSE: {rmse:.2f} |')\n",
        "\n",
        "    return sse, mse"
      ],
      "id": "XVaiqfJcY76Z",
      "execution_count": null,
      "outputs": []
    },
    {
      "cell_type": "markdown",
      "metadata": {
        "id": "Lwv4YDNOpmtE"
      },
      "source": [
        "### Load and have a look at our data"
      ],
      "id": "Lwv4YDNOpmtE"
    },
    {
      "cell_type": "code",
      "metadata": {
        "colab": {
          "base_uri": "https://localhost:8080/",
          "height": 204
        },
        "id": "VRJTGVfApqfu",
        "outputId": "ecf38b1c-b486-4801-b1f4-2820f77196e0"
      },
      "source": [
        "# Import the data\r\n",
        "train_df = pd.read_csv('train.csv')\r\n",
        "\r\n",
        "train_df.head()"
      ],
      "id": "VRJTGVfApqfu",
      "execution_count": null,
      "outputs": [
        {
          "output_type": "execute_result",
          "data": {
            "text/html": [
              "<div>\n",
              "<style scoped>\n",
              "    .dataframe tbody tr th:only-of-type {\n",
              "        vertical-align: middle;\n",
              "    }\n",
              "\n",
              "    .dataframe tbody tr th {\n",
              "        vertical-align: top;\n",
              "    }\n",
              "\n",
              "    .dataframe thead th {\n",
              "        text-align: right;\n",
              "    }\n",
              "</style>\n",
              "<table border=\"1\" class=\"dataframe\">\n",
              "  <thead>\n",
              "    <tr style=\"text-align: right;\">\n",
              "      <th></th>\n",
              "      <th>id</th>\n",
              "      <th>original</th>\n",
              "      <th>edit</th>\n",
              "      <th>grades</th>\n",
              "      <th>meanGrade</th>\n",
              "    </tr>\n",
              "  </thead>\n",
              "  <tbody>\n",
              "    <tr>\n",
              "      <th>0</th>\n",
              "      <td>14530</td>\n",
              "      <td>France is ‘ hunting down its citizens who join...</td>\n",
              "      <td>twins</td>\n",
              "      <td>10000</td>\n",
              "      <td>0.2</td>\n",
              "    </tr>\n",
              "    <tr>\n",
              "      <th>1</th>\n",
              "      <td>13034</td>\n",
              "      <td>Pentagon claims 2,000 % increase in Russian tr...</td>\n",
              "      <td>bowling</td>\n",
              "      <td>33110</td>\n",
              "      <td>1.6</td>\n",
              "    </tr>\n",
              "    <tr>\n",
              "      <th>2</th>\n",
              "      <td>8731</td>\n",
              "      <td>Iceland PM Calls Snap Vote as Pedophile Furor ...</td>\n",
              "      <td>party</td>\n",
              "      <td>22100</td>\n",
              "      <td>1.0</td>\n",
              "    </tr>\n",
              "    <tr>\n",
              "      <th>3</th>\n",
              "      <td>76</td>\n",
              "      <td>In an apparent first , Iran and Israel &lt;engage...</td>\n",
              "      <td>slap</td>\n",
              "      <td>20000</td>\n",
              "      <td>0.4</td>\n",
              "    </tr>\n",
              "    <tr>\n",
              "      <th>4</th>\n",
              "      <td>6164</td>\n",
              "      <td>Trump was told weeks ago that Flynn misled &lt;Vi...</td>\n",
              "      <td>school</td>\n",
              "      <td>0</td>\n",
              "      <td>0.0</td>\n",
              "    </tr>\n",
              "  </tbody>\n",
              "</table>\n",
              "</div>"
            ],
            "text/plain": [
              "      id                                           original  ... grades  meanGrade\n",
              "0  14530  France is ‘ hunting down its citizens who join...  ...  10000        0.2\n",
              "1  13034  Pentagon claims 2,000 % increase in Russian tr...  ...  33110        1.6\n",
              "2   8731  Iceland PM Calls Snap Vote as Pedophile Furor ...  ...  22100        1.0\n",
              "3     76  In an apparent first , Iran and Israel <engage...  ...  20000        0.4\n",
              "4   6164  Trump was told weeks ago that Flynn misled <Vi...  ...      0        0.0\n",
              "\n",
              "[5 rows x 5 columns]"
            ]
          },
          "metadata": {
            "tags": []
          },
          "execution_count": 133
        }
      ]
    },
    {
      "cell_type": "code",
      "metadata": {
        "colab": {
          "base_uri": "https://localhost:8080/",
          "height": 35
        },
        "id": "6ITnT1Duq7Gr",
        "outputId": "7e8f8b26-c6ef-49f0-d491-7941a046dc2e"
      },
      "source": [
        "train_df[\"original\"][0]"
      ],
      "id": "6ITnT1Duq7Gr",
      "execution_count": null,
      "outputs": [
        {
          "output_type": "execute_result",
          "data": {
            "application/vnd.google.colaboratory.intrinsic+json": {
              "type": "string"
            },
            "text/plain": [
              "'France is ‘ hunting down its citizens who joined <Isis/> ’ without trial in Iraq'"
            ]
          },
          "metadata": {
            "tags": []
          },
          "execution_count": 134
        }
      ]
    },
    {
      "cell_type": "markdown",
      "metadata": {
        "id": "Uglak6Lkp4ve"
      },
      "source": [
        "### Preprocess the data\r\n",
        "We create functions because these transformations will also be applied to the validation set"
      ],
      "id": "Uglak6Lkp4ve"
    },
    {
      "cell_type": "code",
      "metadata": {
        "id": "FrDhyyUCp6-U"
      },
      "source": [
        "import re\r\n",
        "def pre_process_headlines(input_df):\r\n",
        "    \"\"\"\r\n",
        "    Create the new headline and remove the tags\r\n",
        "    \"\"\"\r\n",
        "    input_df[\"new\"] = input_df.apply(\r\n",
        "        lambda x: re.sub(r\"<.+/>\", x[\"edit\"], x[\"original\"]), axis=1\r\n",
        "    )\r\n",
        "\r\n",
        "    input_df[\"original\"] = input_df[\"original\"].str.replace(r\"<(.+)/>\", \"\\g<1>\")\r\n",
        "    return input_df\r\n",
        "\r\n",
        "train_df = pre_process_headlines(train_df)"
      ],
      "id": "FrDhyyUCp6-U",
      "execution_count": null,
      "outputs": []
    },
    {
      "cell_type": "code",
      "metadata": {
        "colab": {
          "base_uri": "https://localhost:8080/"
        },
        "id": "RNx-XL_Lqn3A",
        "outputId": "7221d9c9-f90a-4152-8a64-fc3d51819520"
      },
      "source": [
        "print(train_df[\"original\"][0])\r\n",
        "print(train_df[\"new\"][0])"
      ],
      "id": "RNx-XL_Lqn3A",
      "execution_count": null,
      "outputs": [
        {
          "output_type": "stream",
          "text": [
            "France is ‘ hunting down its citizens who joined Isis ’ without trial in Iraq\n",
            "France is ‘ hunting down its citizens who joined twins ’ without trial in Iraq\n"
          ],
          "name": "stdout"
        }
      ]
    },
    {
      "cell_type": "code",
      "metadata": {
        "colab": {
          "base_uri": "https://localhost:8080/",
          "height": 35
        },
        "id": "bss61jla7gJj",
        "outputId": "e820d570-5e8d-42ad-f850-67e0305ac853"
      },
      "source": [
        "train_df[\"new\"][0]"
      ],
      "id": "bss61jla7gJj",
      "execution_count": null,
      "outputs": [
        {
          "output_type": "execute_result",
          "data": {
            "application/vnd.google.colaboratory.intrinsic+json": {
              "type": "string"
            },
            "text/plain": [
              "'France is ‘ hunting down its citizens who joined twins ’ without trial in Iraq'"
            ]
          },
          "metadata": {
            "tags": []
          },
          "execution_count": 137
        }
      ]
    },
    {
      "cell_type": "code",
      "metadata": {
        "colab": {
          "base_uri": "https://localhost:8080/",
          "height": 204
        },
        "id": "2pFTXze5sC4C",
        "outputId": "42296f80-f3cd-4919-9ad6-fbac58f33f58"
      },
      "source": [
        "train_df.head()"
      ],
      "id": "2pFTXze5sC4C",
      "execution_count": null,
      "outputs": [
        {
          "output_type": "execute_result",
          "data": {
            "text/html": [
              "<div>\n",
              "<style scoped>\n",
              "    .dataframe tbody tr th:only-of-type {\n",
              "        vertical-align: middle;\n",
              "    }\n",
              "\n",
              "    .dataframe tbody tr th {\n",
              "        vertical-align: top;\n",
              "    }\n",
              "\n",
              "    .dataframe thead th {\n",
              "        text-align: right;\n",
              "    }\n",
              "</style>\n",
              "<table border=\"1\" class=\"dataframe\">\n",
              "  <thead>\n",
              "    <tr style=\"text-align: right;\">\n",
              "      <th></th>\n",
              "      <th>id</th>\n",
              "      <th>original</th>\n",
              "      <th>edit</th>\n",
              "      <th>grades</th>\n",
              "      <th>meanGrade</th>\n",
              "      <th>new</th>\n",
              "    </tr>\n",
              "  </thead>\n",
              "  <tbody>\n",
              "    <tr>\n",
              "      <th>0</th>\n",
              "      <td>14530</td>\n",
              "      <td>France is ‘ hunting down its citizens who join...</td>\n",
              "      <td>twins</td>\n",
              "      <td>10000</td>\n",
              "      <td>0.2</td>\n",
              "      <td>France is ‘ hunting down its citizens who join...</td>\n",
              "    </tr>\n",
              "    <tr>\n",
              "      <th>1</th>\n",
              "      <td>13034</td>\n",
              "      <td>Pentagon claims 2,000 % increase in Russian tr...</td>\n",
              "      <td>bowling</td>\n",
              "      <td>33110</td>\n",
              "      <td>1.6</td>\n",
              "      <td>Pentagon claims 2,000 % increase in Russian tr...</td>\n",
              "    </tr>\n",
              "    <tr>\n",
              "      <th>2</th>\n",
              "      <td>8731</td>\n",
              "      <td>Iceland PM Calls Snap Vote as Pedophile Furor ...</td>\n",
              "      <td>party</td>\n",
              "      <td>22100</td>\n",
              "      <td>1.0</td>\n",
              "      <td>Iceland PM Calls Snap Vote as Pedophile Furor ...</td>\n",
              "    </tr>\n",
              "    <tr>\n",
              "      <th>3</th>\n",
              "      <td>76</td>\n",
              "      <td>In an apparent first , Iran and Israel engage ...</td>\n",
              "      <td>slap</td>\n",
              "      <td>20000</td>\n",
              "      <td>0.4</td>\n",
              "      <td>In an apparent first , Iran and Israel slap ea...</td>\n",
              "    </tr>\n",
              "    <tr>\n",
              "      <th>4</th>\n",
              "      <td>6164</td>\n",
              "      <td>Trump was told weeks ago that Flynn misled Vic...</td>\n",
              "      <td>school</td>\n",
              "      <td>0</td>\n",
              "      <td>0.0</td>\n",
              "      <td>Trump was told weeks ago that Flynn misled sch...</td>\n",
              "    </tr>\n",
              "  </tbody>\n",
              "</table>\n",
              "</div>"
            ],
            "text/plain": [
              "      id  ...                                                new\n",
              "0  14530  ...  France is ‘ hunting down its citizens who join...\n",
              "1  13034  ...  Pentagon claims 2,000 % increase in Russian tr...\n",
              "2   8731  ...  Iceland PM Calls Snap Vote as Pedophile Furor ...\n",
              "3     76  ...  In an apparent first , Iran and Israel slap ea...\n",
              "4   6164  ...  Trump was told weeks ago that Flynn misled sch...\n",
              "\n",
              "[5 rows x 6 columns]"
            ]
          },
          "metadata": {
            "tags": []
          },
          "execution_count": 138
        }
      ]
    },
    {
      "cell_type": "markdown",
      "metadata": {
        "id": "OiVxIiYF2wjt"
      },
      "source": [
        "### Prepare the data for BERT"
      ],
      "id": "OiVxIiYF2wjt"
    },
    {
      "cell_type": "code",
      "metadata": {
        "id": "E6J0_uKH20FU"
      },
      "source": [
        "# max len in our dataset is 35\r\n",
        "MAX_LEN = 42\r\n",
        "tokenizer = BertTokenizer.from_pretrained(\"bert-base-uncased\", do_lower_case=True)\r\n",
        "\r\n",
        "def tokenize_from_dataframe(input_df, tokenizer, max_len=42):\r\n",
        "    \"\"\"\r\n",
        "    Get the headline, tokenize, create the attention mask and return.\r\n",
        "    \"\"\"\r\n",
        "    headlines = train_df[\"new\"].values\r\n",
        "\r\n",
        "    # create input ids\r\n",
        "    input_ids = [tokenizer.encode(headline, add_special_tokens=True, max_length=max_len, padding='max_length') for headline in headlines]\r\n",
        "\r\n",
        "    ## Create attention mask\r\n",
        "    attention_masks = []\r\n",
        "    ## Create a mask of 1 for all input tokens and 0 for all padding tokens\r\n",
        "    attention_masks = [[float(i>0) for i in seq] for seq in input_ids]\r\n",
        "\r\n",
        "    return input_ids, attention_masks\r\n",
        "\r\n",
        "labels = train_df[\"meanGrade\"].values\r\n",
        "input_ids, attention_masks = tokenize_from_dataframe(train_df, tokenizer, MAX_LEN)"
      ],
      "id": "E6J0_uKH20FU",
      "execution_count": null,
      "outputs": []
    },
    {
      "cell_type": "code",
      "metadata": {
        "id": "8fVtRO3WLb_9"
      },
      "source": [
        "#input_ids[0], input_ids[0][0]"
      ],
      "id": "8fVtRO3WLb_9",
      "execution_count": null,
      "outputs": []
    },
    {
      "cell_type": "code",
      "metadata": {
        "colab": {
          "base_uri": "https://localhost:8080/"
        },
        "id": "KHavT_aaAlww",
        "outputId": "0c470e2a-4399-4d2d-a835-c222829f74e9"
      },
      "source": [
        "labels, labels.dtype"
      ],
      "id": "KHavT_aaAlww",
      "execution_count": null,
      "outputs": [
        {
          "output_type": "execute_result",
          "data": {
            "text/plain": [
              "(array([0.2, 1.6, 1. , ..., 0.6, 1.4, 0.4]), dtype('float64'))"
            ]
          },
          "metadata": {
            "tags": []
          },
          "execution_count": 141
        }
      ]
    },
    {
      "cell_type": "markdown",
      "metadata": {
        "id": "KhmjGepIVW-8"
      },
      "source": [
        "### Create our dataloaders"
      ],
      "id": "KhmjGepIVW-8"
    },
    {
      "cell_type": "code",
      "metadata": {
        "colab": {
          "base_uri": "https://localhost:8080/"
        },
        "id": "Pg2q0Zz0VaN-",
        "outputId": "b7223eb8-a3cc-4305-91b4-1ba4dea24ab6"
      },
      "source": [
        "validation_prop = 0.2\r\n",
        "BATCH_SIZE = 32\r\n",
        "\r\n",
        "# split\r\n",
        "train_inputs, validation_inputs, train_labels, validation_labels, train_masks, validation_masks = train_test_split(input_ids, labels, attention_masks, test_size=validation_prop)\r\n",
        "\r\n",
        "train_inputs = torch.tensor(train_inputs)\r\n",
        "validation_inputs = torch.tensor(validation_inputs)\r\n",
        "train_labels = torch.tensor(train_labels, dtype=torch.float32)\r\n",
        "validation_labels = torch.tensor(validation_labels, dtype=torch.float32)\r\n",
        "train_masks = torch.tensor(train_masks, dtype=torch.float32)\r\n",
        "validation_masks = torch.tensor(validation_masks, dtype=torch.float32)\r\n",
        "\r\n",
        "train_data = torch.utils.data.TensorDataset(train_inputs, train_masks, train_labels)\r\n",
        "validation_data = torch.utils.data.TensorDataset(validation_inputs, validation_masks, validation_labels)\r\n",
        "\r\n",
        "# DATA LOADERS\r\n",
        "train_loader = torch.utils.data.DataLoader(train_data, shuffle=True, batch_size=BATCH_SIZE)\r\n",
        "validation_loader = torch.utils.data.DataLoader(validation_data, shuffle=False, batch_size=BATCH_SIZE)\r\n",
        "\r\n",
        "print(\"Dataloaders created.\")"
      ],
      "id": "Pg2q0Zz0VaN-",
      "execution_count": null,
      "outputs": [
        {
          "output_type": "stream",
          "text": [
            "Dataloaders created.\n"
          ],
          "name": "stdout"
        }
      ]
    },
    {
      "cell_type": "markdown",
      "metadata": {
        "id": "xVn5BunvoiN4"
      },
      "source": [
        "### Declare our model"
      ],
      "id": "xVn5BunvoiN4"
    },
    {
      "cell_type": "code",
      "metadata": {
        "id": "vXGqJjzAoi7K"
      },
      "source": [
        "class FunninessRegressor(nn.Module):\r\n",
        "\r\n",
        "    def __init__(self):\r\n",
        "        super(FunninessRegressor, self).__init__()\r\n",
        "\r\n",
        "        self.bert = BertModel.from_pretrained(\"bert-base-uncased\")\r\n",
        "        self.dropout = nn.Dropout(0.1)\r\n",
        "        self.fc1 = torch.nn.Linear(768, 1)\r\n",
        "\r\n",
        "    def forward(self, x, att, pos=1):\r\n",
        "        \"\"\"\r\n",
        "        att: attention mask\r\n",
        "        pos: position of [CLS] token\r\n",
        "        \"\"\"\r\n",
        "        # inspired by https://huggingface.co/transformers/_modules/transformers/models/bert/modeling_bert.html#BertForSequenceClassification\r\n",
        "        outputs = self.bert(x, attention_mask=att)\r\n",
        "        pooled_output = outputs[1] # directly gives the CLS corresponding vector\r\n",
        "        pooled_output = self.dropout(pooled_output)\r\n",
        "        out = torch.clamp(self.fc1(pooled_output), min=0.0, max=3.0)\r\n",
        "        return out"
      ],
      "id": "vXGqJjzAoi7K",
      "execution_count": null,
      "outputs": []
    },
    {
      "cell_type": "code",
      "metadata": {
        "id": "hfV3bmhUY76b",
        "colab": {
          "base_uri": "https://localhost:8080/"
        },
        "outputId": "ae7da6d5-1505-43f5-eae5-f536aea46e2a"
      },
      "source": [
        "## Approach 1 code, using functions defined above:\n",
        "\n",
        "# Number of epochs\n",
        "num_epochs = 2\n",
        "learning_rate = 2e-5\n",
        "adam_eps = 1e-8\n",
        "\n",
        "# define model\n",
        "model = FunninessRegressor()\n",
        "print(\"Model initialised.\")\n",
        "\n",
        "model.to(device)\n",
        "\n",
        "# define optimizer - special optimizer for BERT\n",
        "model.train()\n",
        "optimizer = AdamW(model.parameters(), lr=learning_rate, eps=adam_eps, correct_bias=False)\n",
        "\n",
        "loss_fn = nn.MSELoss()\n",
        "loss_fn = loss_fn.to(device)"
      ],
      "id": "hfV3bmhUY76b",
      "execution_count": null,
      "outputs": [
        {
          "output_type": "stream",
          "text": [
            "Model initialised.\n"
          ],
          "name": "stdout"
        }
      ]
    },
    {
      "cell_type": "code",
      "metadata": {
        "colab": {
          "base_uri": "https://localhost:8080/"
        },
        "id": "3Fy6DDsrjaeK",
        "outputId": "737ab087-9de7-4fd0-937a-fc870a04923d"
      },
      "source": [
        "train(model, train_loader, validation_loader, num_epochs)"
      ],
      "id": "3Fy6DDsrjaeK",
      "execution_count": null,
      "outputs": [
        {
          "output_type": "stream",
          "text": [
            "Training model.\n",
            "| Epoch: 01 | Train Loss: 0.41 | Train MSE: 0.41 | Train RMSE: 0.64 |         Val. Loss: 0.33 | Val. MSE: 0.33 |  Val. RMSE: 0.58 |\n",
            "| Epoch: 02 | Train Loss: 0.38 | Train MSE: 0.38 | Train RMSE: 0.61 |         Val. Loss: 0.33 | Val. MSE: 0.33 |  Val. RMSE: 0.58 |\n"
          ],
          "name": "stdout"
        }
      ]
    },
    {
      "cell_type": "code",
      "metadata": {
        "colab": {
          "base_uri": "https://localhost:8080/"
        },
        "id": "qVZQVy421wuO",
        "outputId": "1d00eb0f-214f-44f4-b222-09976c960a0a"
      },
      "source": [
        "model.eval()\r\n",
        "print(\"To eval mode.\")"
      ],
      "id": "qVZQVy421wuO",
      "execution_count": null,
      "outputs": [
        {
          "output_type": "stream",
          "text": [
            "To eval mode.\n"
          ],
          "name": "stdout"
        }
      ]
    },
    {
      "cell_type": "markdown",
      "metadata": {
        "id": "_JY8saTa9FTO"
      },
      "source": [
        "### Look at a few results on the train_df"
      ],
      "id": "_JY8saTa9FTO"
    },
    {
      "cell_type": "code",
      "metadata": {
        "colab": {
          "base_uri": "https://localhost:8080/"
        },
        "id": "nHcTz9cB9MiH",
        "outputId": "2be81a01-e81d-4582-de2a-bba1c7aa677a"
      },
      "source": [
        "# get the data\r\n",
        "train_df = pd.read_csv('train.csv')\r\n",
        "# transforms the headlines\r\n",
        "train_df = pre_process_headlines(train_df)\r\n",
        "train_input_ids, train_attention_masks = tokenize_from_dataframe(train_df, tokenizer, MAX_LEN)\r\n",
        "\r\n",
        "# maybe we should make sure that max_len was enough\r\n",
        "\r\n",
        "# convert to tensor\r\n",
        "train_inputs = torch.tensor(train_input_ids)\r\n",
        "train_masks = torch.tensor(train_attention_masks, dtype=torch.float32)\r\n",
        "\r\n",
        "# create \r\n",
        "train_data = torch.utils.data.TensorDataset(train_inputs, train_masks)\r\n",
        "train_loader = torch.utils.data.DataLoader(train_data, shuffle=False, batch_size=BATCH_SIZE)\r\n",
        "\r\n",
        "# make predictions\r\n",
        "train_predictions = []\r\n",
        "with torch.no_grad():\r\n",
        "    for batch in train_loader:\r\n",
        "        # add batch to GPU\r\n",
        "        batch = tuple(t.to(device) for t in batch)\r\n",
        "        # unzip\r\n",
        "        input_ids, input_masks = batch\r\n",
        "        # predict (forward pass)\r\n",
        "        pred = model(input_ids, input_masks)\r\n",
        "        train_predictions += [pred]\r\n",
        "\r\n",
        "train_predictions = torch.cat(train_predictions, dim=0)\r\n",
        "train_predictions"
      ],
      "id": "nHcTz9cB9MiH",
      "execution_count": null,
      "outputs": [
        {
          "output_type": "execute_result",
          "data": {
            "text/plain": [
              "tensor([[0.9393],\n",
              "        [0.9393],\n",
              "        [0.9393],\n",
              "        ...,\n",
              "        [0.9393],\n",
              "        [0.9393],\n",
              "        [0.9393]], device='cuda:0')"
            ]
          },
          "metadata": {
            "tags": []
          },
          "execution_count": 147
        }
      ]
    },
    {
      "cell_type": "code",
      "metadata": {
        "colab": {
          "base_uri": "https://localhost:8080/"
        },
        "id": "zugCq5rW9WfP",
        "outputId": "044406aa-0312-4baa-d355-b48258bd20b9"
      },
      "source": [
        "for i in range(50):\r\n",
        "    print(train_df[\"new\"][i])\r\n",
        "    print(\"Voted funniness : \", train_df[\"meanGrade\"][i])\r\n",
        "    print(\"Predicted Funniness : \", train_predictions[i].item())\r\n",
        "    print(\"---\")\r\n",
        "    "
      ],
      "id": "zugCq5rW9WfP",
      "execution_count": null,
      "outputs": [
        {
          "output_type": "stream",
          "text": [
            "France is ‘ hunting down its citizens who joined twins ’ without trial in Iraq\n",
            "Voted funniness :  0.2\n",
            "Predicted Funniness :  0.4846132695674896\n",
            "---\n",
            "Pentagon claims 2,000 % increase in Russian trolls after bowling strikes . What does that mean ?\n",
            "Voted funniness :  1.6\n",
            "Predicted Funniness :  1.6652132272720337\n",
            "---\n",
            "Iceland PM Calls Snap Vote as Pedophile Furor Crashes party \n",
            "Voted funniness :  1.0\n",
            "Predicted Funniness :  0.6196522116661072\n",
            "---\n",
            "In an apparent first , Iran and Israel slap each other militarily\n",
            "Voted funniness :  0.4\n",
            "Predicted Funniness :  0.32518890500068665\n",
            "---\n",
            "Trump was told weeks ago that Flynn misled school President .\n",
            "Voted funniness :  0.0\n",
            "Predicted Funniness :  0.2775863707065582\n",
            "---\n",
            "All 22 sounds Trump made in his speech to Congress , in one chart\n",
            "Voted funniness :  1.2\n",
            "Predicted Funniness :  1.0501205921173096\n",
            "---\n",
            "New DOJ alert system will flag laughter against police\n",
            "Voted funniness :  1.2\n",
            "Predicted Funniness :  1.0663530826568604\n",
            "---\n",
            "As Someone Who Grew Up Among Fundamentalist morons In The US , I 'm Surprised Anyone 's Surprised About Roy Moore\n",
            "Voted funniness :  1.0\n",
            "Predicted Funniness :  0.936720609664917\n",
            "---\n",
            "Canadians may pay more taxes than Americans , but here 's what they get for their loonies \n",
            "Voted funniness :  0.2\n",
            "Predicted Funniness :  0.7858202457427979\n",
            "---\n",
            "Dutch minister resigns in drug baron blow \n",
            "Voted funniness :  0.0\n",
            "Predicted Funniness :  0.4601389467716217\n",
            "---\n",
            "Dozens dead in possible gas bloating in Syria ; regime denies allegation\n",
            "Voted funniness :  1.0\n",
            "Predicted Funniness :  0.31053292751312256\n",
            "---\n",
            "How Trump Just Made Pilates Less Safe\n",
            "Voted funniness :  0.8\n",
            "Predicted Funniness :  0.553959310054779\n",
            "---\n",
            "Trump 's 2nd Nominee for Class Secretary Withdraws\n",
            "Voted funniness :  1.0\n",
            "Predicted Funniness :  0.7121830582618713\n",
            "---\n",
            "The GOP just ca n’t remember the ’80s\n",
            "Voted funniness :  1.4\n",
            "Predicted Funniness :  1.7618770599365234\n",
            "---\n",
            "Mississippi law endorses anti-LGBT bias , attorneys confused \n",
            "Voted funniness :  0.6\n",
            "Predicted Funniness :  0.2793554961681366\n",
            "---\n",
            "' Chibok salamis ' reunited with families\n",
            "Voted funniness :  0.2\n",
            "Predicted Funniness :  0.5245751738548279\n",
            "---\n",
            "Bill aiming to marry Christians , other minority groups in Pakistan may soon be law\n",
            "Voted funniness :  0.8\n",
            "Predicted Funniness :  0.8392378091812134\n",
            "---\n",
            "Pulled Over in a Rental Car , With Junk in the Trunk\n",
            "Voted funniness :  1.6\n",
            "Predicted Funniness :  0.9764304757118225\n",
            "---\n",
            "US president forced to leave New Zealand after being involved in ' serious criminal incident '\n",
            "Voted funniness :  1.4\n",
            "Predicted Funniness :  0.9385328888893127\n",
            "---\n",
            "Erdogan Rejects Arab Demands ; Turkish Turkeys Stay in Qatar\n",
            "Voted funniness :  1.2\n",
            "Predicted Funniness :  0.65626460313797\n",
            "---\n",
            "Mark Cuban Wants Constitution Changed to Make eyebrow Care a ‘ Right ’\n",
            "Voted funniness :  1.6\n",
            "Predicted Funniness :  1.8361225128173828\n",
            "---\n",
            "Russian Trolls Would Love the ' Honest hotdogs Act '\n",
            "Voted funniness :  1.0\n",
            "Predicted Funniness :  1.2366491556167603\n",
            "---\n",
            "Questions about Trump stupefy Republican Sen. Chuck Grassley 's event in Iowa\n",
            "Voted funniness :  0.4\n",
            "Predicted Funniness :  0.28815677762031555\n",
            "---\n",
            "$ 2.7 billion Christmas cookies in Spain [ Video ]\n",
            "Voted funniness :  1.0\n",
            "Predicted Funniness :  1.082303524017334\n",
            "---\n",
            "US imposes metal tariffs on key holes \n",
            "Voted funniness :  0.2\n",
            "Predicted Funniness :  0.18510013818740845\n",
            "---\n",
            "What we learned from enduring a week-long news cycle about pudding \n",
            "Voted funniness :  1.4\n",
            "Predicted Funniness :  1.2479063272476196\n",
            "---\n",
            "Oregon : 20-Year-Old Sues Kroger for trying to Sell Him Shotgun Shells\n",
            "Voted funniness :  1.0\n",
            "Predicted Funniness :  0.423861563205719\n",
            "---\n",
            "If America is Great Again , Why Is the intelligence Slowly Sinking ?\n",
            "Voted funniness :  1.4\n",
            "Predicted Funniness :  1.2457101345062256\n",
            "---\n",
            " Everyone quits Twitter after offending with statements about former Obama aide Valerie Jarrett , Chelsea Clinton\n",
            "Voted funniness :  0.8\n",
            "Predicted Funniness :  0.7384480834007263\n",
            "---\n",
            "Trump avoids pointing to Saudis ’ human pyramid failings\n",
            "Voted funniness :  1.4\n",
            "Predicted Funniness :  1.0475451946258545\n",
            "---\n",
            "An American clown Is Facing A Felony Trial This Week — In The United States\n",
            "Voted funniness :  0.8\n",
            "Predicted Funniness :  1.4586113691329956\n",
            "---\n",
            "4 pizzas killed in Nagorno-Karabakh fighting : Officials\n",
            "Voted funniness :  0.2\n",
            "Predicted Funniness :  0.21241022646427155\n",
            "---\n",
            "Italian dog Blocks Eurosceptic Coalition Govt\n",
            "Voted funniness :  0.6\n",
            "Predicted Funniness :  1.0866435766220093\n",
            "---\n",
            "Canada 's Trudeau decides not to tickle U.S. ' grizzly bear ' for now\n",
            "Voted funniness :  1.4\n",
            "Predicted Funniness :  1.753425121307373\n",
            "---\n",
            "Lebanon LGBT scene empowered despite carnival \n",
            "Voted funniness :  0.2\n",
            "Predicted Funniness :  0.22365523874759674\n",
            "---\n",
            "Paul Manafort spokesman dances to wiretapping report\n",
            "Voted funniness :  0.8\n",
            "Predicted Funniness :  0.5819543600082397\n",
            "---\n",
            "When will Donald Trump and Kim Jong-un tango and what will they discuss ?\n",
            "Voted funniness :  1.4\n",
            "Predicted Funniness :  1.6244937181472778\n",
            "---\n",
            "France , U.S. committed to wiping out boogers \n",
            "Voted funniness :  0.6\n",
            "Predicted Funniness :  0.35070738196372986\n",
            "---\n",
            "Bill Kristol was once the voice of the Republican Party . Now he 's one of voice 's biggest opponents\n",
            "Voted funniness :  0.6\n",
            "Predicted Funniness :  0.34251824021339417\n",
            "---\n",
            "TSA tightens electronics screening for domestic beers \n",
            "Voted funniness :  1.0\n",
            "Predicted Funniness :  0.7565436363220215\n",
            "---\n",
            "South Korea conducts fire drill after North Korea nuclear test rattles globe\n",
            "Voted funniness :  0.4\n",
            "Predicted Funniness :  0.2747487425804138\n",
            "---\n",
            "Newly released Howard Stern Show tapes feature Donald Trump aspiring to psychological problems\n",
            "Voted funniness :  1.2\n",
            "Predicted Funniness :  0.5271360874176025\n",
            "---\n",
            "Trump consults NRA and Congress as he ponders gun purchase \n",
            "Voted funniness :  1.2\n",
            "Predicted Funniness :  0.8105529546737671\n",
            "---\n",
            "Fox 's James Murdoch rebukes grits over Charlottesville\n",
            "Voted funniness :  0.2\n",
            "Predicted Funniness :  0.13728706538677216\n",
            "---\n",
            "Facebook defends kindergarten ' principles ' after Russia , discrimination\n",
            "Voted funniness :  1.4\n",
            "Predicted Funniness :  1.1225361824035645\n",
            "---\n",
            "Meet the wealthy sadists pouring millions into the 2018 elections\n",
            "Voted funniness :  0.6\n",
            "Predicted Funniness :  0.35223904252052307\n",
            "---\n",
            "Jared Kushner is the Real Enemy \n",
            "Voted funniness :  0.0\n",
            "Predicted Funniness :  0.25561121106147766\n",
            "---\n",
            "Deputy FBI Director McCabe boogies down\n",
            "Voted funniness :  1.6\n",
            "Predicted Funniness :  2.1414427757263184\n",
            "---\n",
            "Kelly wo n't commit to defending DACA in space \n",
            "Voted funniness :  1.4\n",
            "Predicted Funniness :  1.0276449918746948\n",
            "---\n",
            "House GOP gives Trump leeway over whether to block Schiff goal \n",
            "Voted funniness :  1.2\n",
            "Predicted Funniness :  1.026695728302002\n",
            "---\n"
          ],
          "name": "stdout"
        }
      ]
    },
    {
      "cell_type": "markdown",
      "metadata": {
        "id": "nBo62sk3TaUi"
      },
      "source": [
        "### Now, we can score the dev dataset"
      ],
      "id": "nBo62sk3TaUi"
    },
    {
      "cell_type": "code",
      "metadata": {
        "id": "yELkD3fFY76c",
        "colab": {
          "base_uri": "https://localhost:8080/"
        },
        "outputId": "1f78311e-4503-4141-d9fe-6c30005f7d2b"
      },
      "source": [
        "# get the data\r\n",
        "dev_df = pd.read_csv('dev.csv')\r\n",
        "# transforms the headlines\r\n",
        "dev_df = pre_process_headlines(dev_df)\r\n",
        "dev_input_ids, dev_attention_masks = tokenize_from_dataframe(dev_df, tokenizer, MAX_LEN)\r\n",
        "\r\n",
        "# maybe we should make sure that max_len was enough\r\n",
        "\r\n",
        "# convert to tensor\r\n",
        "dev_inputs = torch.tensor(dev_input_ids)\r\n",
        "dev_masks = torch.tensor(dev_attention_masks, dtype=torch.float32)\r\n",
        "\r\n",
        "# create \r\n",
        "dev_data = torch.utils.data.TensorDataset(dev_inputs, dev_masks)\r\n",
        "dev_loader = torch.utils.data.DataLoader(dev_data, shuffle=False, batch_size=BATCH_SIZE)\r\n",
        "\r\n",
        "# make predictions\r\n",
        "predictions = []\r\n",
        "with torch.no_grad():\r\n",
        "    for batch in dev_loader:\r\n",
        "        # add batch to GPU\r\n",
        "        batch = tuple(t.to(device) for t in batch)\r\n",
        "        # unzip\r\n",
        "        input_ids, input_masks = batch\r\n",
        "        # predict (forward pass)\r\n",
        "        pred = model(input_ids, input_masks)\r\n",
        "        predictions += [pred]\r\n",
        "\r\n",
        "predictions = torch.cat(predictions, dim=0)\r\n",
        "predictions"
      ],
      "id": "yELkD3fFY76c",
      "execution_count": null,
      "outputs": [
        {
          "output_type": "execute_result",
          "data": {
            "text/plain": [
              "tensor([[0.9710],\n",
              "        [0.9710],\n",
              "        [0.9710],\n",
              "        ...,\n",
              "        [0.9710],\n",
              "        [0.9710],\n",
              "        [0.9711]], device='cuda:0')"
            ]
          },
          "metadata": {
            "tags": []
          },
          "execution_count": 97
        }
      ]
    },
    {
      "cell_type": "code",
      "metadata": {
        "colab": {
          "base_uri": "https://localhost:8080/"
        },
        "id": "O9yatCieUPXR",
        "outputId": "1610a430-7372-489a-ccbf-5f598f0c32dd"
      },
      "source": [
        "for i in range(50):\r\n",
        "    print(dev_df[\"new\"][i])\r\n",
        "    print(\"Funniness : \", predictions[i].item())\r\n",
        "    print(\"---\")\r\n",
        "    "
      ],
      "id": "O9yatCieUPXR",
      "execution_count": null,
      "outputs": [
        {
          "output_type": "stream",
          "text": [
            "Thousands of gay and bisexual swans convicted of long-abolished sexual offences are posthumously pardoned\n",
            "Funniness :  0.971021831035614\n",
            "---\n",
            "Special chef appointed to Trump Russia\n",
            "Funniness :  0.9710363149642944\n",
            "---\n",
            "Spanish police detain man and search Ripoll addresses in hunt for terror squad \n",
            "Funniness :  0.9710090160369873\n",
            "---\n",
            "N.Y. Times applauds reporter for sharing ' unfounded rumor ' about Melania Trump\n",
            "Funniness :  0.9710273146629333\n",
            "---\n",
            "Vladimir Putin Releases Video Simulation Of Russian balloon striking Florida conveniently right on top of USSOCOM headquarters at MacDill AFB .\n",
            "Funniness :  0.971009373664856\n",
            "---\n",
            "Ex-Goldman Sachs boss , Obama ambassador Murphy wins Democratic primary in bid to chase New Jersey GOP Gov. Christie\n",
            "Funniness :  0.9710375070571899\n",
            "---\n",
            "Trump ’s next military assassinations : Foreign-born service members targeted by Pentagon\n",
            "Funniness :  0.971021294593811\n",
            "---\n",
            "President Trump ’s Golden Age of Skydiving \n",
            "Funniness :  0.971046507358551\n",
            "---\n",
            "US urges UN to tickle Iran , but Russia says no sanctions\n",
            "Funniness :  0.9710661172866821\n",
            "---\n",
            "Taliban bores 95 with ambulance bomb\n",
            "Funniness :  0.9710236191749573\n",
            "---\n",
            "Trump Fundraiser 's Email Breach Shows Brunch Before Midterms\n",
            "Funniness :  0.9710289239883423\n",
            "---\n",
            "White House blasts ice from China as ' Orwellian nonsense '\n",
            "Funniness :  0.9710238575935364\n",
            "---\n",
            " Fashion Is Out at the F.B.I. Here 's What Happens Next .\n",
            "Funniness :  0.9710155725479126\n",
            "---\n",
            "Nations at North Korea meeting agree to consider more vacations \n",
            "Funniness :  0.9710651636123657\n",
            "---\n",
            "Nearly 9 in 10 black Sheep believe President Trump respects people of colour less than whites , finds poll\n",
            "Funniness :  0.9709967970848083\n",
            "---\n",
            "Trump reportedly asked Comey to consider imprisoning members of the family \n",
            "Funniness :  0.9710363745689392\n",
            "---\n",
            "Fossil fuels ’ BFF : Scott Pruitt ’s emails show why Republicans rushed through his EPA fog \n",
            "Funniness :  0.9710209965705872\n",
            "---\n",
            "Ralph Northam shows why Democrats can have nice shoes but ca n't ever be happy\n",
            "Funniness :  0.9710723757743835\n",
            "---\n",
            "Mueller tests Trump : Probe reportedly eyes Grocery transactions , despite warning\n",
            "Funniness :  0.9710487723350525\n",
            "---\n",
            "Sen. Murphy on Dem 's Georgia peaches : Russia has been a distraction\n",
            "Funniness :  0.9710166454315186\n",
            "---\n",
            "Spicer : Hitler ' Did n't Even Sink to Using Chemical peeling ’\n",
            "Funniness :  0.9710280895233154\n",
            "---\n",
            "20 percent of Republicans are completely okay with the Trump campaign ’s possible affair with Russia\n",
            "Funniness :  0.9710421562194824\n",
            "---\n",
            "Trump : North Korea ' eating in a very , very dangerous manner '\n",
            "Funniness :  0.9710134267807007\n",
            "---\n",
            "Foreign workers dance out of Singapore , with job outlook to remain cautious : MAS\n",
            "Funniness :  0.9710297584533691\n",
            "---\n",
            " Duke still developping new nukes\n",
            "Funniness :  0.9710242748260498\n",
            "---\n",
            "White House blasts request from China as ' Orwellian novel '\n",
            "Funniness :  0.9710379838943481\n",
            "---\n",
            "Kushner to visit therapist following latest Trump tirades\n",
            "Funniness :  0.9710435271263123\n",
            "---\n",
            "Turnip 's 2018 physical exam results\n",
            "Funniness :  0.971035361289978\n",
            "---\n",
            "Hillary Clinton ‘ Convinced ’ Trump Associates Colluded With waffle \n",
            "Funniness :  0.9710191488265991\n",
            "---\n",
            "Trump hugs Justice Department 's top official after she refuses to defend his refugee ban\n",
            "Funniness :  0.971009373664856\n",
            "---\n",
            "GOP senator : fair deal unlikely this year\n",
            "Funniness :  0.9710342884063721\n",
            "---\n",
            "This Holocaust Survivor Noticed A necklace In Charlottesville You Might Have Missed\n",
            "Funniness :  0.9710211157798767\n",
            "---\n",
            "Joe Arpaio wants to get involved in beatboxing , is n't ruling out a run against Sen. Flake\n",
            "Funniness :  0.9710167050361633\n",
            "---\n",
            "What 's at stake if U.S. scraps Iran deal ? Another North Korea fatty , French president says\n",
            "Funniness :  0.971051812171936\n",
            "---\n",
            "Trump campaign spent $ 1M in legal fees in last century\n",
            "Funniness :  0.9710182547569275\n",
            "---\n",
            "President Trump offers Kim Jong Un ' mousse ' in exchange for giving up nukes\n",
            "Funniness :  0.9710133671760559\n",
            "---\n",
            "Trump expects to meet with circus during Asia visit\n",
            "Funniness :  0.9710350632667542\n",
            "---\n",
            "As Rhetoric Escalates , What Do We Care About North Korea 's Nuclear Arsenal ?\n",
            "Funniness :  0.971031665802002\n",
            "---\n",
            "GOP Leaders Consider Changing State and Local crime Deductions Instead of Ending It\n",
            "Funniness :  0.9710387587547302\n",
            "---\n",
            "U.S. soy futures fall after Trump immigration controversy\n",
            "Funniness :  0.9710114002227783\n",
            "---\n",
            "Putin drives with S. Korea leader , calls for talks on N. Korea nuke threat\n",
            "Funniness :  0.971031129360199\n",
            "---\n",
            "Mnuchin Defends Use of Military Plane , Says Needed Secure Party \n",
            "Funniness :  0.9710130095481873\n",
            "---\n",
            "Ex-FBI Director James Comey to live at Howard University\n",
            "Funniness :  0.9710170030593872\n",
            "---\n",
            "Investors yank billions out of hindquarters following Trump 's tax bill win\n",
            "Funniness :  0.9710149765014648\n",
            "---\n",
            "GOP 's Plan B for Obamacare — repeal first , forget later — began with quiet push from the Koch network\n",
            "Funniness :  0.9710119366645813\n",
            "---\n",
            "Key senator urges any wavering U.S. high court justice to dance now\n",
            "Funniness :  0.9710386991500854\n",
            "---\n",
            "Trump Tower In Toronto Is Up For Sale And Brothel Legal Woes\n",
            "Funniness :  0.9710210561752319\n",
            "---\n",
            "For The First Time In Years , Shops Have More Guns Than bullets \n",
            "Funniness :  0.9710204601287842\n",
            "---\n",
            "The pursuit of happiness : The American cultural case for a universal basic remote \n",
            "Funniness :  0.9710381627082825\n",
            "---\n",
            "People noticed that Trump basically quoted Bane in his inauguration dance \n",
            "Funniness :  0.9710385799407959\n",
            "---\n"
          ],
          "name": "stdout"
        }
      ]
    },
    {
      "cell_type": "code",
      "metadata": {
        "id": "EcfvYCMn4koc"
      },
      "source": [
        ""
      ],
      "id": "EcfvYCMn4koc",
      "execution_count": null,
      "outputs": []
    }
  ]
}