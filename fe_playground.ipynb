{
  "nbformat": 4,
  "nbformat_minor": 5,
  "metadata": {
    "kernelspec": {
      "display_name": "Python 3",
      "language": "python",
      "name": "python3"
    },
    "language_info": {
      "codemirror_mode": {
        "name": "ipython",
        "version": 3
      },
      "file_extension": ".py",
      "mimetype": "text/x-python",
      "name": "python",
      "nbconvert_exporter": "python",
      "pygments_lexer": "ipython3",
      "version": "3.8.5"
    },
    "colab": {
      "name": "fe_playground.ipynb",
      "provenance": [],
      "collapsed_sections": []
    },
    "accelerator": "GPU",
    "widgets": {
      "application/vnd.jupyter.widget-state+json": {
        "2ea75a957e2b4199bdef4ebd87ff9223": {
          "model_module": "@jupyter-widgets/controls",
          "model_name": "HBoxModel",
          "state": {
            "_view_name": "HBoxView",
            "_dom_classes": [],
            "_model_name": "HBoxModel",
            "_view_module": "@jupyter-widgets/controls",
            "_model_module_version": "1.5.0",
            "_view_count": null,
            "_view_module_version": "1.5.0",
            "box_style": "",
            "layout": "IPY_MODEL_135eaeaceebf4e2f9e67aefd936a295a",
            "_model_module": "@jupyter-widgets/controls",
            "children": [
              "IPY_MODEL_5e18c158bf7b421dba91eeb91d5e3ed5",
              "IPY_MODEL_783faf1cb3234fa9a4af6a7b004704d0"
            ]
          }
        },
        "135eaeaceebf4e2f9e67aefd936a295a": {
          "model_module": "@jupyter-widgets/base",
          "model_name": "LayoutModel",
          "state": {
            "_view_name": "LayoutView",
            "grid_template_rows": null,
            "right": null,
            "justify_content": null,
            "_view_module": "@jupyter-widgets/base",
            "overflow": null,
            "_model_module_version": "1.2.0",
            "_view_count": null,
            "flex_flow": null,
            "width": null,
            "min_width": null,
            "border": null,
            "align_items": null,
            "bottom": null,
            "_model_module": "@jupyter-widgets/base",
            "top": null,
            "grid_column": null,
            "overflow_y": null,
            "overflow_x": null,
            "grid_auto_flow": null,
            "grid_area": null,
            "grid_template_columns": null,
            "flex": null,
            "_model_name": "LayoutModel",
            "justify_items": null,
            "grid_row": null,
            "max_height": null,
            "align_content": null,
            "visibility": null,
            "align_self": null,
            "height": null,
            "min_height": null,
            "padding": null,
            "grid_auto_rows": null,
            "grid_gap": null,
            "max_width": null,
            "order": null,
            "_view_module_version": "1.2.0",
            "grid_template_areas": null,
            "object_position": null,
            "object_fit": null,
            "grid_auto_columns": null,
            "margin": null,
            "display": null,
            "left": null
          }
        },
        "5e18c158bf7b421dba91eeb91d5e3ed5": {
          "model_module": "@jupyter-widgets/controls",
          "model_name": "FloatProgressModel",
          "state": {
            "_view_name": "ProgressView",
            "style": "IPY_MODEL_8f3bc94c5d7c4bba81fe6be470ea0819",
            "_dom_classes": [],
            "description": "Downloading: 100%",
            "_model_name": "FloatProgressModel",
            "bar_style": "success",
            "max": 231508,
            "_view_module": "@jupyter-widgets/controls",
            "_model_module_version": "1.5.0",
            "value": 231508,
            "_view_count": null,
            "_view_module_version": "1.5.0",
            "orientation": "horizontal",
            "min": 0,
            "description_tooltip": null,
            "_model_module": "@jupyter-widgets/controls",
            "layout": "IPY_MODEL_401755bdab2b4d7cb22424798d90a849"
          }
        },
        "783faf1cb3234fa9a4af6a7b004704d0": {
          "model_module": "@jupyter-widgets/controls",
          "model_name": "HTMLModel",
          "state": {
            "_view_name": "HTMLView",
            "style": "IPY_MODEL_417081dfed124ad38b5714c59fdb9090",
            "_dom_classes": [],
            "description": "",
            "_model_name": "HTMLModel",
            "placeholder": "​",
            "_view_module": "@jupyter-widgets/controls",
            "_model_module_version": "1.5.0",
            "value": " 232k/232k [00:00&lt;00:00, 2.79MB/s]",
            "_view_count": null,
            "_view_module_version": "1.5.0",
            "description_tooltip": null,
            "_model_module": "@jupyter-widgets/controls",
            "layout": "IPY_MODEL_2e8aa1cfa4584f99a8f863c57d524be8"
          }
        },
        "8f3bc94c5d7c4bba81fe6be470ea0819": {
          "model_module": "@jupyter-widgets/controls",
          "model_name": "ProgressStyleModel",
          "state": {
            "_view_name": "StyleView",
            "_model_name": "ProgressStyleModel",
            "description_width": "initial",
            "_view_module": "@jupyter-widgets/base",
            "_model_module_version": "1.5.0",
            "_view_count": null,
            "_view_module_version": "1.2.0",
            "bar_color": null,
            "_model_module": "@jupyter-widgets/controls"
          }
        },
        "401755bdab2b4d7cb22424798d90a849": {
          "model_module": "@jupyter-widgets/base",
          "model_name": "LayoutModel",
          "state": {
            "_view_name": "LayoutView",
            "grid_template_rows": null,
            "right": null,
            "justify_content": null,
            "_view_module": "@jupyter-widgets/base",
            "overflow": null,
            "_model_module_version": "1.2.0",
            "_view_count": null,
            "flex_flow": null,
            "width": null,
            "min_width": null,
            "border": null,
            "align_items": null,
            "bottom": null,
            "_model_module": "@jupyter-widgets/base",
            "top": null,
            "grid_column": null,
            "overflow_y": null,
            "overflow_x": null,
            "grid_auto_flow": null,
            "grid_area": null,
            "grid_template_columns": null,
            "flex": null,
            "_model_name": "LayoutModel",
            "justify_items": null,
            "grid_row": null,
            "max_height": null,
            "align_content": null,
            "visibility": null,
            "align_self": null,
            "height": null,
            "min_height": null,
            "padding": null,
            "grid_auto_rows": null,
            "grid_gap": null,
            "max_width": null,
            "order": null,
            "_view_module_version": "1.2.0",
            "grid_template_areas": null,
            "object_position": null,
            "object_fit": null,
            "grid_auto_columns": null,
            "margin": null,
            "display": null,
            "left": null
          }
        },
        "417081dfed124ad38b5714c59fdb9090": {
          "model_module": "@jupyter-widgets/controls",
          "model_name": "DescriptionStyleModel",
          "state": {
            "_view_name": "StyleView",
            "_model_name": "DescriptionStyleModel",
            "description_width": "",
            "_view_module": "@jupyter-widgets/base",
            "_model_module_version": "1.5.0",
            "_view_count": null,
            "_view_module_version": "1.2.0",
            "_model_module": "@jupyter-widgets/controls"
          }
        },
        "2e8aa1cfa4584f99a8f863c57d524be8": {
          "model_module": "@jupyter-widgets/base",
          "model_name": "LayoutModel",
          "state": {
            "_view_name": "LayoutView",
            "grid_template_rows": null,
            "right": null,
            "justify_content": null,
            "_view_module": "@jupyter-widgets/base",
            "overflow": null,
            "_model_module_version": "1.2.0",
            "_view_count": null,
            "flex_flow": null,
            "width": null,
            "min_width": null,
            "border": null,
            "align_items": null,
            "bottom": null,
            "_model_module": "@jupyter-widgets/base",
            "top": null,
            "grid_column": null,
            "overflow_y": null,
            "overflow_x": null,
            "grid_auto_flow": null,
            "grid_area": null,
            "grid_template_columns": null,
            "flex": null,
            "_model_name": "LayoutModel",
            "justify_items": null,
            "grid_row": null,
            "max_height": null,
            "align_content": null,
            "visibility": null,
            "align_self": null,
            "height": null,
            "min_height": null,
            "padding": null,
            "grid_auto_rows": null,
            "grid_gap": null,
            "max_width": null,
            "order": null,
            "_view_module_version": "1.2.0",
            "grid_template_areas": null,
            "object_position": null,
            "object_fit": null,
            "grid_auto_columns": null,
            "margin": null,
            "display": null,
            "left": null
          }
        },
        "c722f931e22f4bc78719ea76f99b4151": {
          "model_module": "@jupyter-widgets/controls",
          "model_name": "HBoxModel",
          "state": {
            "_view_name": "HBoxView",
            "_dom_classes": [],
            "_model_name": "HBoxModel",
            "_view_module": "@jupyter-widgets/controls",
            "_model_module_version": "1.5.0",
            "_view_count": null,
            "_view_module_version": "1.5.0",
            "box_style": "",
            "layout": "IPY_MODEL_39ed2506f75e4952a136f21f3a773a54",
            "_model_module": "@jupyter-widgets/controls",
            "children": [
              "IPY_MODEL_e7cc91f83b9c4f2ab1f6818b4b63afc0",
              "IPY_MODEL_852e71978ff54de5b60f347c341748b5"
            ]
          }
        },
        "39ed2506f75e4952a136f21f3a773a54": {
          "model_module": "@jupyter-widgets/base",
          "model_name": "LayoutModel",
          "state": {
            "_view_name": "LayoutView",
            "grid_template_rows": null,
            "right": null,
            "justify_content": null,
            "_view_module": "@jupyter-widgets/base",
            "overflow": null,
            "_model_module_version": "1.2.0",
            "_view_count": null,
            "flex_flow": null,
            "width": null,
            "min_width": null,
            "border": null,
            "align_items": null,
            "bottom": null,
            "_model_module": "@jupyter-widgets/base",
            "top": null,
            "grid_column": null,
            "overflow_y": null,
            "overflow_x": null,
            "grid_auto_flow": null,
            "grid_area": null,
            "grid_template_columns": null,
            "flex": null,
            "_model_name": "LayoutModel",
            "justify_items": null,
            "grid_row": null,
            "max_height": null,
            "align_content": null,
            "visibility": null,
            "align_self": null,
            "height": null,
            "min_height": null,
            "padding": null,
            "grid_auto_rows": null,
            "grid_gap": null,
            "max_width": null,
            "order": null,
            "_view_module_version": "1.2.0",
            "grid_template_areas": null,
            "object_position": null,
            "object_fit": null,
            "grid_auto_columns": null,
            "margin": null,
            "display": null,
            "left": null
          }
        },
        "e7cc91f83b9c4f2ab1f6818b4b63afc0": {
          "model_module": "@jupyter-widgets/controls",
          "model_name": "FloatProgressModel",
          "state": {
            "_view_name": "ProgressView",
            "style": "IPY_MODEL_6a6c09d8c4aa4405a8e09bfe9c26cd27",
            "_dom_classes": [],
            "description": "Downloading: 100%",
            "_model_name": "FloatProgressModel",
            "bar_style": "success",
            "max": 433,
            "_view_module": "@jupyter-widgets/controls",
            "_model_module_version": "1.5.0",
            "value": 433,
            "_view_count": null,
            "_view_module_version": "1.5.0",
            "orientation": "horizontal",
            "min": 0,
            "description_tooltip": null,
            "_model_module": "@jupyter-widgets/controls",
            "layout": "IPY_MODEL_bfb85699aeb34be5a71eb34cbd122410"
          }
        },
        "852e71978ff54de5b60f347c341748b5": {
          "model_module": "@jupyter-widgets/controls",
          "model_name": "HTMLModel",
          "state": {
            "_view_name": "HTMLView",
            "style": "IPY_MODEL_f8d9c1ab830b4da3a4f3b040d374d71d",
            "_dom_classes": [],
            "description": "",
            "_model_name": "HTMLModel",
            "placeholder": "​",
            "_view_module": "@jupyter-widgets/controls",
            "_model_module_version": "1.5.0",
            "value": " 433/433 [00:00&lt;00:00, 2.36kB/s]",
            "_view_count": null,
            "_view_module_version": "1.5.0",
            "description_tooltip": null,
            "_model_module": "@jupyter-widgets/controls",
            "layout": "IPY_MODEL_38e5471d6ca345a4a73ead037833b247"
          }
        },
        "6a6c09d8c4aa4405a8e09bfe9c26cd27": {
          "model_module": "@jupyter-widgets/controls",
          "model_name": "ProgressStyleModel",
          "state": {
            "_view_name": "StyleView",
            "_model_name": "ProgressStyleModel",
            "description_width": "initial",
            "_view_module": "@jupyter-widgets/base",
            "_model_module_version": "1.5.0",
            "_view_count": null,
            "_view_module_version": "1.2.0",
            "bar_color": null,
            "_model_module": "@jupyter-widgets/controls"
          }
        },
        "bfb85699aeb34be5a71eb34cbd122410": {
          "model_module": "@jupyter-widgets/base",
          "model_name": "LayoutModel",
          "state": {
            "_view_name": "LayoutView",
            "grid_template_rows": null,
            "right": null,
            "justify_content": null,
            "_view_module": "@jupyter-widgets/base",
            "overflow": null,
            "_model_module_version": "1.2.0",
            "_view_count": null,
            "flex_flow": null,
            "width": null,
            "min_width": null,
            "border": null,
            "align_items": null,
            "bottom": null,
            "_model_module": "@jupyter-widgets/base",
            "top": null,
            "grid_column": null,
            "overflow_y": null,
            "overflow_x": null,
            "grid_auto_flow": null,
            "grid_area": null,
            "grid_template_columns": null,
            "flex": null,
            "_model_name": "LayoutModel",
            "justify_items": null,
            "grid_row": null,
            "max_height": null,
            "align_content": null,
            "visibility": null,
            "align_self": null,
            "height": null,
            "min_height": null,
            "padding": null,
            "grid_auto_rows": null,
            "grid_gap": null,
            "max_width": null,
            "order": null,
            "_view_module_version": "1.2.0",
            "grid_template_areas": null,
            "object_position": null,
            "object_fit": null,
            "grid_auto_columns": null,
            "margin": null,
            "display": null,
            "left": null
          }
        },
        "f8d9c1ab830b4da3a4f3b040d374d71d": {
          "model_module": "@jupyter-widgets/controls",
          "model_name": "DescriptionStyleModel",
          "state": {
            "_view_name": "StyleView",
            "_model_name": "DescriptionStyleModel",
            "description_width": "",
            "_view_module": "@jupyter-widgets/base",
            "_model_module_version": "1.5.0",
            "_view_count": null,
            "_view_module_version": "1.2.0",
            "_model_module": "@jupyter-widgets/controls"
          }
        },
        "38e5471d6ca345a4a73ead037833b247": {
          "model_module": "@jupyter-widgets/base",
          "model_name": "LayoutModel",
          "state": {
            "_view_name": "LayoutView",
            "grid_template_rows": null,
            "right": null,
            "justify_content": null,
            "_view_module": "@jupyter-widgets/base",
            "overflow": null,
            "_model_module_version": "1.2.0",
            "_view_count": null,
            "flex_flow": null,
            "width": null,
            "min_width": null,
            "border": null,
            "align_items": null,
            "bottom": null,
            "_model_module": "@jupyter-widgets/base",
            "top": null,
            "grid_column": null,
            "overflow_y": null,
            "overflow_x": null,
            "grid_auto_flow": null,
            "grid_area": null,
            "grid_template_columns": null,
            "flex": null,
            "_model_name": "LayoutModel",
            "justify_items": null,
            "grid_row": null,
            "max_height": null,
            "align_content": null,
            "visibility": null,
            "align_self": null,
            "height": null,
            "min_height": null,
            "padding": null,
            "grid_auto_rows": null,
            "grid_gap": null,
            "max_width": null,
            "order": null,
            "_view_module_version": "1.2.0",
            "grid_template_areas": null,
            "object_position": null,
            "object_fit": null,
            "grid_auto_columns": null,
            "margin": null,
            "display": null,
            "left": null
          }
        },
        "7968652ad79b49b1a7c6005e20af457e": {
          "model_module": "@jupyter-widgets/controls",
          "model_name": "HBoxModel",
          "state": {
            "_view_name": "HBoxView",
            "_dom_classes": [],
            "_model_name": "HBoxModel",
            "_view_module": "@jupyter-widgets/controls",
            "_model_module_version": "1.5.0",
            "_view_count": null,
            "_view_module_version": "1.5.0",
            "box_style": "",
            "layout": "IPY_MODEL_fe068c72d08047e99ba8c754272ec265",
            "_model_module": "@jupyter-widgets/controls",
            "children": [
              "IPY_MODEL_d1383cd39a3e48ecb68853444c079948",
              "IPY_MODEL_6d5bbe6fc4954d309b39270a7938d0c5"
            ]
          }
        },
        "fe068c72d08047e99ba8c754272ec265": {
          "model_module": "@jupyter-widgets/base",
          "model_name": "LayoutModel",
          "state": {
            "_view_name": "LayoutView",
            "grid_template_rows": null,
            "right": null,
            "justify_content": null,
            "_view_module": "@jupyter-widgets/base",
            "overflow": null,
            "_model_module_version": "1.2.0",
            "_view_count": null,
            "flex_flow": null,
            "width": null,
            "min_width": null,
            "border": null,
            "align_items": null,
            "bottom": null,
            "_model_module": "@jupyter-widgets/base",
            "top": null,
            "grid_column": null,
            "overflow_y": null,
            "overflow_x": null,
            "grid_auto_flow": null,
            "grid_area": null,
            "grid_template_columns": null,
            "flex": null,
            "_model_name": "LayoutModel",
            "justify_items": null,
            "grid_row": null,
            "max_height": null,
            "align_content": null,
            "visibility": null,
            "align_self": null,
            "height": null,
            "min_height": null,
            "padding": null,
            "grid_auto_rows": null,
            "grid_gap": null,
            "max_width": null,
            "order": null,
            "_view_module_version": "1.2.0",
            "grid_template_areas": null,
            "object_position": null,
            "object_fit": null,
            "grid_auto_columns": null,
            "margin": null,
            "display": null,
            "left": null
          }
        },
        "d1383cd39a3e48ecb68853444c079948": {
          "model_module": "@jupyter-widgets/controls",
          "model_name": "FloatProgressModel",
          "state": {
            "_view_name": "ProgressView",
            "style": "IPY_MODEL_d04534baa0694e849650d9b419b91560",
            "_dom_classes": [],
            "description": "Downloading: 100%",
            "_model_name": "FloatProgressModel",
            "bar_style": "success",
            "max": 440473133,
            "_view_module": "@jupyter-widgets/controls",
            "_model_module_version": "1.5.0",
            "value": 440473133,
            "_view_count": null,
            "_view_module_version": "1.5.0",
            "orientation": "horizontal",
            "min": 0,
            "description_tooltip": null,
            "_model_module": "@jupyter-widgets/controls",
            "layout": "IPY_MODEL_979037cb4542457eb9d85451b5cfe734"
          }
        },
        "6d5bbe6fc4954d309b39270a7938d0c5": {
          "model_module": "@jupyter-widgets/controls",
          "model_name": "HTMLModel",
          "state": {
            "_view_name": "HTMLView",
            "style": "IPY_MODEL_e7da7bd6b5bb472587b2b5f86ad4ecec",
            "_dom_classes": [],
            "description": "",
            "_model_name": "HTMLModel",
            "placeholder": "​",
            "_view_module": "@jupyter-widgets/controls",
            "_model_module_version": "1.5.0",
            "value": " 440M/440M [00:07&lt;00:00, 56.3MB/s]",
            "_view_count": null,
            "_view_module_version": "1.5.0",
            "description_tooltip": null,
            "_model_module": "@jupyter-widgets/controls",
            "layout": "IPY_MODEL_f9537d519ebd4a0487847a1b91532a49"
          }
        },
        "d04534baa0694e849650d9b419b91560": {
          "model_module": "@jupyter-widgets/controls",
          "model_name": "ProgressStyleModel",
          "state": {
            "_view_name": "StyleView",
            "_model_name": "ProgressStyleModel",
            "description_width": "initial",
            "_view_module": "@jupyter-widgets/base",
            "_model_module_version": "1.5.0",
            "_view_count": null,
            "_view_module_version": "1.2.0",
            "bar_color": null,
            "_model_module": "@jupyter-widgets/controls"
          }
        },
        "979037cb4542457eb9d85451b5cfe734": {
          "model_module": "@jupyter-widgets/base",
          "model_name": "LayoutModel",
          "state": {
            "_view_name": "LayoutView",
            "grid_template_rows": null,
            "right": null,
            "justify_content": null,
            "_view_module": "@jupyter-widgets/base",
            "overflow": null,
            "_model_module_version": "1.2.0",
            "_view_count": null,
            "flex_flow": null,
            "width": null,
            "min_width": null,
            "border": null,
            "align_items": null,
            "bottom": null,
            "_model_module": "@jupyter-widgets/base",
            "top": null,
            "grid_column": null,
            "overflow_y": null,
            "overflow_x": null,
            "grid_auto_flow": null,
            "grid_area": null,
            "grid_template_columns": null,
            "flex": null,
            "_model_name": "LayoutModel",
            "justify_items": null,
            "grid_row": null,
            "max_height": null,
            "align_content": null,
            "visibility": null,
            "align_self": null,
            "height": null,
            "min_height": null,
            "padding": null,
            "grid_auto_rows": null,
            "grid_gap": null,
            "max_width": null,
            "order": null,
            "_view_module_version": "1.2.0",
            "grid_template_areas": null,
            "object_position": null,
            "object_fit": null,
            "grid_auto_columns": null,
            "margin": null,
            "display": null,
            "left": null
          }
        },
        "e7da7bd6b5bb472587b2b5f86ad4ecec": {
          "model_module": "@jupyter-widgets/controls",
          "model_name": "DescriptionStyleModel",
          "state": {
            "_view_name": "StyleView",
            "_model_name": "DescriptionStyleModel",
            "description_width": "",
            "_view_module": "@jupyter-widgets/base",
            "_model_module_version": "1.5.0",
            "_view_count": null,
            "_view_module_version": "1.2.0",
            "_model_module": "@jupyter-widgets/controls"
          }
        },
        "f9537d519ebd4a0487847a1b91532a49": {
          "model_module": "@jupyter-widgets/base",
          "model_name": "LayoutModel",
          "state": {
            "_view_name": "LayoutView",
            "grid_template_rows": null,
            "right": null,
            "justify_content": null,
            "_view_module": "@jupyter-widgets/base",
            "overflow": null,
            "_model_module_version": "1.2.0",
            "_view_count": null,
            "flex_flow": null,
            "width": null,
            "min_width": null,
            "border": null,
            "align_items": null,
            "bottom": null,
            "_model_module": "@jupyter-widgets/base",
            "top": null,
            "grid_column": null,
            "overflow_y": null,
            "overflow_x": null,
            "grid_auto_flow": null,
            "grid_area": null,
            "grid_template_columns": null,
            "flex": null,
            "_model_name": "LayoutModel",
            "justify_items": null,
            "grid_row": null,
            "max_height": null,
            "align_content": null,
            "visibility": null,
            "align_self": null,
            "height": null,
            "min_height": null,
            "padding": null,
            "grid_auto_rows": null,
            "grid_gap": null,
            "max_width": null,
            "order": null,
            "_view_module_version": "1.2.0",
            "grid_template_areas": null,
            "object_position": null,
            "object_fit": null,
            "grid_auto_columns": null,
            "margin": null,
            "display": null,
            "left": null
          }
        }
      }
    }
  },
  "cells": [
    {
      "cell_type": "markdown",
      "metadata": {
        "id": "Q_qUgPYzpMPB"
      },
      "source": [
        "### Load libraries"
      ],
      "id": "Q_qUgPYzpMPB"
    },
    {
      "cell_type": "code",
      "metadata": {
        "id": "cRO6hDwZY76Q"
      },
      "source": [
        "import torch\n",
        "import torch.nn as nn\n",
        "import pandas as pd\n",
        "import numpy as np\n",
        "from sklearn.model_selection import train_test_split"
      ],
      "id": "cRO6hDwZY76Q",
      "execution_count": 1,
      "outputs": []
    },
    {
      "cell_type": "code",
      "metadata": {
        "colab": {
          "base_uri": "https://localhost:8080/"
        },
        "id": "J0905KiZZQsW",
        "outputId": "790e3b14-3eb6-405a-9639-674cb05a7ef6"
      },
      "source": [
        "!pip install transformers\r\n",
        "from transformers import BertTokenizer, BertModel, AdamW"
      ],
      "id": "J0905KiZZQsW",
      "execution_count": 2,
      "outputs": [
        {
          "output_type": "stream",
          "text": [
            "Collecting transformers\n",
            "\u001b[?25l  Downloading https://files.pythonhosted.org/packages/f9/54/5ca07ec9569d2f232f3166de5457b63943882f7950ddfcc887732fc7fb23/transformers-4.3.3-py3-none-any.whl (1.9MB)\n",
            "\u001b[K     |████████████████████████████████| 1.9MB 14.6MB/s \n",
            "\u001b[?25hRequirement already satisfied: regex!=2019.12.17 in /usr/local/lib/python3.7/dist-packages (from transformers) (2019.12.20)\n",
            "Collecting sacremoses\n",
            "\u001b[?25l  Downloading https://files.pythonhosted.org/packages/7d/34/09d19aff26edcc8eb2a01bed8e98f13a1537005d31e95233fd48216eed10/sacremoses-0.0.43.tar.gz (883kB)\n",
            "\u001b[K     |████████████████████████████████| 890kB 56.3MB/s \n",
            "\u001b[?25hRequirement already satisfied: requests in /usr/local/lib/python3.7/dist-packages (from transformers) (2.23.0)\n",
            "Requirement already satisfied: filelock in /usr/local/lib/python3.7/dist-packages (from transformers) (3.0.12)\n",
            "Requirement already satisfied: tqdm>=4.27 in /usr/local/lib/python3.7/dist-packages (from transformers) (4.41.1)\n",
            "Collecting tokenizers<0.11,>=0.10.1\n",
            "\u001b[?25l  Downloading https://files.pythonhosted.org/packages/71/23/2ddc317b2121117bf34dd00f5b0de194158f2a44ee2bf5e47c7166878a97/tokenizers-0.10.1-cp37-cp37m-manylinux2010_x86_64.whl (3.2MB)\n",
            "\u001b[K     |████████████████████████████████| 3.2MB 43.6MB/s \n",
            "\u001b[?25hRequirement already satisfied: numpy>=1.17 in /usr/local/lib/python3.7/dist-packages (from transformers) (1.19.5)\n",
            "Requirement already satisfied: importlib-metadata; python_version < \"3.8\" in /usr/local/lib/python3.7/dist-packages (from transformers) (3.7.0)\n",
            "Requirement already satisfied: packaging in /usr/local/lib/python3.7/dist-packages (from transformers) (20.9)\n",
            "Requirement already satisfied: six in /usr/local/lib/python3.7/dist-packages (from sacremoses->transformers) (1.15.0)\n",
            "Requirement already satisfied: click in /usr/local/lib/python3.7/dist-packages (from sacremoses->transformers) (7.1.2)\n",
            "Requirement already satisfied: joblib in /usr/local/lib/python3.7/dist-packages (from sacremoses->transformers) (1.0.1)\n",
            "Requirement already satisfied: certifi>=2017.4.17 in /usr/local/lib/python3.7/dist-packages (from requests->transformers) (2020.12.5)\n",
            "Requirement already satisfied: chardet<4,>=3.0.2 in /usr/local/lib/python3.7/dist-packages (from requests->transformers) (3.0.4)\n",
            "Requirement already satisfied: urllib3!=1.25.0,!=1.25.1,<1.26,>=1.21.1 in /usr/local/lib/python3.7/dist-packages (from requests->transformers) (1.24.3)\n",
            "Requirement already satisfied: idna<3,>=2.5 in /usr/local/lib/python3.7/dist-packages (from requests->transformers) (2.10)\n",
            "Requirement already satisfied: typing-extensions>=3.6.4; python_version < \"3.8\" in /usr/local/lib/python3.7/dist-packages (from importlib-metadata; python_version < \"3.8\"->transformers) (3.7.4.3)\n",
            "Requirement already satisfied: zipp>=0.5 in /usr/local/lib/python3.7/dist-packages (from importlib-metadata; python_version < \"3.8\"->transformers) (3.4.0)\n",
            "Requirement already satisfied: pyparsing>=2.0.2 in /usr/local/lib/python3.7/dist-packages (from packaging->transformers) (2.4.7)\n",
            "Building wheels for collected packages: sacremoses\n",
            "  Building wheel for sacremoses (setup.py) ... \u001b[?25l\u001b[?25hdone\n",
            "  Created wheel for sacremoses: filename=sacremoses-0.0.43-cp37-none-any.whl size=893262 sha256=d0f4e36be50962dad60b7a78a792a91cfe022e687713a8dd80be3202760a9fc5\n",
            "  Stored in directory: /root/.cache/pip/wheels/29/3c/fd/7ce5c3f0666dab31a50123635e6fb5e19ceb42ce38d4e58f45\n",
            "Successfully built sacremoses\n",
            "Installing collected packages: sacremoses, tokenizers, transformers\n",
            "Successfully installed sacremoses-0.0.43 tokenizers-0.10.1 transformers-4.3.3\n"
          ],
          "name": "stdout"
        }
      ]
    },
    {
      "cell_type": "markdown",
      "metadata": {
        "id": "2YjYKR2dpTWB"
      },
      "source": [
        "### Handle device (CPU or GPU)"
      ],
      "id": "2YjYKR2dpTWB"
    },
    {
      "cell_type": "code",
      "metadata": {
        "colab": {
          "base_uri": "https://localhost:8080/"
        },
        "id": "45guyUHNY76U",
        "outputId": "447e213a-0b97-4eb5-c930-c3645fa868e7"
      },
      "source": [
        "SEED = 1\n",
        "\n",
        "torch.manual_seed(SEED)\n",
        "torch.cuda.manual_seed(SEED)\n",
        "torch.backends.cudnn.deterministic = True\n",
        "\n",
        "use_cuda = torch.cuda.is_available()\n",
        "device = torch.device(\"cuda:0\" if use_cuda else \"cpu\")\n",
        "print(\"Use : \", device)\n"
      ],
      "id": "45guyUHNY76U",
      "execution_count": 3,
      "outputs": [
        {
          "output_type": "stream",
          "text": [
            "Use :  cuda:0\n"
          ],
          "name": "stdout"
        }
      ]
    },
    {
      "cell_type": "markdown",
      "metadata": {
        "id": "uFiOdnZvpc_Y"
      },
      "source": [
        "### Define all the \"utils\" functions"
      ],
      "id": "uFiOdnZvpc_Y"
    },
    {
      "cell_type": "code",
      "metadata": {
        "id": "huupYxqXY76Y"
      },
      "source": [
        "# We define our training loop\n",
        "def train(model, train_iter, validation_iter, number_epoch):\n",
        "    \"\"\"\n",
        "    Training loop for the model, which calls on eval to evaluate after each epoch\n",
        "    \"\"\"\n",
        "\n",
        "    print(\"Training model.\")\n",
        "\n",
        "    for epoch in range(1, number_epoch + 1):\n",
        "        model.train()\n",
        "        epoch_loss = 0\n",
        "        epoch_sse = 0\n",
        "        no_observations = 0  # Observations used for training so far\n",
        "\n",
        "        for batch in train_iter:\n",
        "            # add batch to GPU\n",
        "            batch = tuple(t.to(device) for t in batch)\n",
        "            # unzip\n",
        "            input_ids, input_masks, input_toktypes, targets = batch\n",
        "            # predict (forward pass)\n",
        "            predictions = model(input_ids, input_masks, input_toktypes)\n",
        "            predictions = predictions.squeeze(1)\n",
        "\n",
        "            optimizer.zero_grad()\n",
        "\n",
        "            loss = loss_fn(predictions, targets)\n",
        "\n",
        "            sse, __ = model_performance(predictions.detach().cpu().numpy(), targets.detach().cpu().numpy())\n",
        "\n",
        "            # Backpropagate and optimize\n",
        "            loss.backward()\n",
        "            torch.nn.utils.clip_grad_norm_(model.parameters(), 1.0)\n",
        "            optimizer.step()\n",
        "\n",
        "            # update metrics\n",
        "            no_observations = no_observations + targets.shape[0]\n",
        "            epoch_loss += loss.item() * targets.shape[0]\n",
        "            epoch_sse += sse\n",
        "\n",
        "        valid_loss, valid_mse, __, __ = eval(validation_iter, model)\n",
        "\n",
        "        epoch_loss, epoch_mse = epoch_loss / no_observations, epoch_sse / no_observations\n",
        "        print(f'| Epoch: {epoch:02} | Train Loss: {epoch_loss:.2f} | Train MSE: {epoch_mse:.2f} | Train RMSE: {epoch_mse**0.5:.2f} | \\\n",
        "        Val. Loss: {valid_loss:.2f} | Val. MSE: {valid_mse:.2f} |  Val. RMSE: {valid_mse**0.5:.2f} |')"
      ],
      "id": "huupYxqXY76Y",
      "execution_count": 4,
      "outputs": []
    },
    {
      "cell_type": "code",
      "metadata": {
        "id": "Xr11jwCmY76Z"
      },
      "source": [
        "# We evaluate performance on our dev set\n",
        "def eval(data_iter, model):\n",
        "    \"\"\"\n",
        "    Evaluating model performance on the dev set\n",
        "    \"\"\"\n",
        "    model.eval()\n",
        "    epoch_loss = 0\n",
        "    epoch_sse = 0\n",
        "    pred_all = []\n",
        "    trg_all = []\n",
        "    no_observations = 0\n",
        "\n",
        "    with torch.no_grad():\n",
        "        for batch in data_iter:\n",
        "            # add batch to GPU\n",
        "            batch = tuple(t.to(device) for t in batch)\n",
        "            # unzip\n",
        "            input_ids, input_masks, input_toktypes, targets = batch\n",
        "            # predict (forward pass)\n",
        "            predictions = model(input_ids, input_masks, input_toktypes)\n",
        "\n",
        "            predictions = predictions.squeeze(1)\n",
        "            loss = loss_fn(predictions, targets)\n",
        "\n",
        "            # We get the mse\n",
        "            pred, trg = predictions.detach().cpu().numpy(), targets.detach().cpu().numpy()\n",
        "            sse, __ = model_performance(pred, trg)\n",
        "\n",
        "            no_observations = no_observations + targets.shape[0]\n",
        "            epoch_loss += loss.item() * targets.shape[0]\n",
        "            epoch_sse += sse\n",
        "            pred_all.extend(pred)\n",
        "            trg_all.extend(trg)\n",
        "\n",
        "    return epoch_loss/no_observations, epoch_sse/no_observations, np.array(pred_all), np.array(trg_all)"
      ],
      "id": "Xr11jwCmY76Z",
      "execution_count": 5,
      "outputs": []
    },
    {
      "cell_type": "code",
      "metadata": {
        "id": "XVaiqfJcY76Z"
      },
      "source": [
        "# How we print the model performance\n",
        "def model_performance(output, target, print_output=False):\n",
        "    \"\"\"\n",
        "    Returns SSE and MSE per batch (printing the MSE and the RMSE)\n",
        "    \"\"\"\n",
        "\n",
        "    sq_error = (output - target)**2\n",
        "\n",
        "    sse = np.sum(sq_error)\n",
        "    mse = np.mean(sq_error)\n",
        "    rmse = np.sqrt(mse)\n",
        "\n",
        "    if print_output:\n",
        "        print(f'| MSE: {mse:.2f} | RMSE: {rmse:.2f} |')\n",
        "\n",
        "    return sse, mse"
      ],
      "id": "XVaiqfJcY76Z",
      "execution_count": 6,
      "outputs": []
    },
    {
      "cell_type": "markdown",
      "metadata": {
        "id": "Lwv4YDNOpmtE"
      },
      "source": [
        "### Load and have a look at our data"
      ],
      "id": "Lwv4YDNOpmtE"
    },
    {
      "cell_type": "code",
      "metadata": {
        "colab": {
          "base_uri": "https://localhost:8080/",
          "height": 204
        },
        "id": "VRJTGVfApqfu",
        "outputId": "aefdf89c-1e82-436c-dbca-b26e5f3e8dd6"
      },
      "source": [
        "# Import the data\r\n",
        "train_df = pd.read_csv('train.csv')\r\n",
        "\r\n",
        "train_df.head()"
      ],
      "id": "VRJTGVfApqfu",
      "execution_count": 10,
      "outputs": [
        {
          "output_type": "execute_result",
          "data": {
            "text/html": [
              "<div>\n",
              "<style scoped>\n",
              "    .dataframe tbody tr th:only-of-type {\n",
              "        vertical-align: middle;\n",
              "    }\n",
              "\n",
              "    .dataframe tbody tr th {\n",
              "        vertical-align: top;\n",
              "    }\n",
              "\n",
              "    .dataframe thead th {\n",
              "        text-align: right;\n",
              "    }\n",
              "</style>\n",
              "<table border=\"1\" class=\"dataframe\">\n",
              "  <thead>\n",
              "    <tr style=\"text-align: right;\">\n",
              "      <th></th>\n",
              "      <th>id</th>\n",
              "      <th>original</th>\n",
              "      <th>edit</th>\n",
              "      <th>grades</th>\n",
              "      <th>meanGrade</th>\n",
              "    </tr>\n",
              "  </thead>\n",
              "  <tbody>\n",
              "    <tr>\n",
              "      <th>0</th>\n",
              "      <td>14530</td>\n",
              "      <td>France is ‘ hunting down its citizens who join...</td>\n",
              "      <td>twins</td>\n",
              "      <td>10000</td>\n",
              "      <td>0.2</td>\n",
              "    </tr>\n",
              "    <tr>\n",
              "      <th>1</th>\n",
              "      <td>13034</td>\n",
              "      <td>Pentagon claims 2,000 % increase in Russian tr...</td>\n",
              "      <td>bowling</td>\n",
              "      <td>33110</td>\n",
              "      <td>1.6</td>\n",
              "    </tr>\n",
              "    <tr>\n",
              "      <th>2</th>\n",
              "      <td>8731</td>\n",
              "      <td>Iceland PM Calls Snap Vote as Pedophile Furor ...</td>\n",
              "      <td>party</td>\n",
              "      <td>22100</td>\n",
              "      <td>1.0</td>\n",
              "    </tr>\n",
              "    <tr>\n",
              "      <th>3</th>\n",
              "      <td>76</td>\n",
              "      <td>In an apparent first , Iran and Israel &lt;engage...</td>\n",
              "      <td>slap</td>\n",
              "      <td>20000</td>\n",
              "      <td>0.4</td>\n",
              "    </tr>\n",
              "    <tr>\n",
              "      <th>4</th>\n",
              "      <td>6164</td>\n",
              "      <td>Trump was told weeks ago that Flynn misled &lt;Vi...</td>\n",
              "      <td>school</td>\n",
              "      <td>0</td>\n",
              "      <td>0.0</td>\n",
              "    </tr>\n",
              "  </tbody>\n",
              "</table>\n",
              "</div>"
            ],
            "text/plain": [
              "      id                                           original  ... grades  meanGrade\n",
              "0  14530  France is ‘ hunting down its citizens who join...  ...  10000        0.2\n",
              "1  13034  Pentagon claims 2,000 % increase in Russian tr...  ...  33110        1.6\n",
              "2   8731  Iceland PM Calls Snap Vote as Pedophile Furor ...  ...  22100        1.0\n",
              "3     76  In an apparent first , Iran and Israel <engage...  ...  20000        0.4\n",
              "4   6164  Trump was told weeks ago that Flynn misled <Vi...  ...      0        0.0\n",
              "\n",
              "[5 rows x 5 columns]"
            ]
          },
          "metadata": {
            "tags": []
          },
          "execution_count": 10
        }
      ]
    },
    {
      "cell_type": "code",
      "metadata": {
        "colab": {
          "base_uri": "https://localhost:8080/",
          "height": 35
        },
        "id": "6ITnT1Duq7Gr",
        "outputId": "39b4118f-be7e-44f1-9c9a-2da8fad602f7"
      },
      "source": [
        "train_df[\"original\"][0]"
      ],
      "id": "6ITnT1Duq7Gr",
      "execution_count": 11,
      "outputs": [
        {
          "output_type": "execute_result",
          "data": {
            "application/vnd.google.colaboratory.intrinsic+json": {
              "type": "string"
            },
            "text/plain": [
              "'France is ‘ hunting down its citizens who joined <Isis/> ’ without trial in Iraq'"
            ]
          },
          "metadata": {
            "tags": []
          },
          "execution_count": 11
        }
      ]
    },
    {
      "cell_type": "markdown",
      "metadata": {
        "id": "Uglak6Lkp4ve"
      },
      "source": [
        "### Preprocess the data\r\n",
        "We create functions because these transformations will also be applied to the validation set"
      ],
      "id": "Uglak6Lkp4ve"
    },
    {
      "cell_type": "code",
      "metadata": {
        "id": "FrDhyyUCp6-U"
      },
      "source": [
        "import re\r\n",
        "def pre_process_headlines(input_df):\r\n",
        "    \"\"\"\r\n",
        "    Create the new headline and remove the tags\r\n",
        "    \"\"\"\r\n",
        "    input_df[\"new\"] = input_df.apply(\r\n",
        "        lambda x: re.sub(r\"<.+/>\", x[\"edit\"], x[\"original\"]), axis=1\r\n",
        "    )\r\n",
        "\r\n",
        "    input_df[\"original\"] = input_df[\"original\"].str.replace(r\"<(.+)/>\", \"\\g<1>\")\r\n",
        "    return input_df\r\n",
        "\r\n",
        "train_df = pre_process_headlines(train_df)"
      ],
      "id": "FrDhyyUCp6-U",
      "execution_count": 12,
      "outputs": []
    },
    {
      "cell_type": "code",
      "metadata": {
        "colab": {
          "base_uri": "https://localhost:8080/"
        },
        "id": "RNx-XL_Lqn3A",
        "outputId": "fb53f59b-dea9-4e1c-8d71-cc8f8a24d4f6"
      },
      "source": [
        "print(train_df[\"original\"][0])\r\n",
        "print(train_df[\"new\"][0])"
      ],
      "id": "RNx-XL_Lqn3A",
      "execution_count": 13,
      "outputs": [
        {
          "output_type": "stream",
          "text": [
            "France is ‘ hunting down its citizens who joined Isis ’ without trial in Iraq\n",
            "France is ‘ hunting down its citizens who joined twins ’ without trial in Iraq\n"
          ],
          "name": "stdout"
        }
      ]
    },
    {
      "cell_type": "code",
      "metadata": {
        "colab": {
          "base_uri": "https://localhost:8080/",
          "height": 35
        },
        "id": "bss61jla7gJj",
        "outputId": "0de5bde9-bc5f-4245-d121-2013add054fa"
      },
      "source": [
        "train_df[\"new\"][0]"
      ],
      "id": "bss61jla7gJj",
      "execution_count": 14,
      "outputs": [
        {
          "output_type": "execute_result",
          "data": {
            "application/vnd.google.colaboratory.intrinsic+json": {
              "type": "string"
            },
            "text/plain": [
              "'France is ‘ hunting down its citizens who joined twins ’ without trial in Iraq'"
            ]
          },
          "metadata": {
            "tags": []
          },
          "execution_count": 14
        }
      ]
    },
    {
      "cell_type": "code",
      "metadata": {
        "colab": {
          "base_uri": "https://localhost:8080/",
          "height": 204
        },
        "id": "2pFTXze5sC4C",
        "outputId": "071fad87-5291-4e15-adb6-a8af6a2b3b11"
      },
      "source": [
        "train_df.head()"
      ],
      "id": "2pFTXze5sC4C",
      "execution_count": 15,
      "outputs": [
        {
          "output_type": "execute_result",
          "data": {
            "text/html": [
              "<div>\n",
              "<style scoped>\n",
              "    .dataframe tbody tr th:only-of-type {\n",
              "        vertical-align: middle;\n",
              "    }\n",
              "\n",
              "    .dataframe tbody tr th {\n",
              "        vertical-align: top;\n",
              "    }\n",
              "\n",
              "    .dataframe thead th {\n",
              "        text-align: right;\n",
              "    }\n",
              "</style>\n",
              "<table border=\"1\" class=\"dataframe\">\n",
              "  <thead>\n",
              "    <tr style=\"text-align: right;\">\n",
              "      <th></th>\n",
              "      <th>id</th>\n",
              "      <th>original</th>\n",
              "      <th>edit</th>\n",
              "      <th>grades</th>\n",
              "      <th>meanGrade</th>\n",
              "      <th>new</th>\n",
              "    </tr>\n",
              "  </thead>\n",
              "  <tbody>\n",
              "    <tr>\n",
              "      <th>0</th>\n",
              "      <td>14530</td>\n",
              "      <td>France is ‘ hunting down its citizens who join...</td>\n",
              "      <td>twins</td>\n",
              "      <td>10000</td>\n",
              "      <td>0.2</td>\n",
              "      <td>France is ‘ hunting down its citizens who join...</td>\n",
              "    </tr>\n",
              "    <tr>\n",
              "      <th>1</th>\n",
              "      <td>13034</td>\n",
              "      <td>Pentagon claims 2,000 % increase in Russian tr...</td>\n",
              "      <td>bowling</td>\n",
              "      <td>33110</td>\n",
              "      <td>1.6</td>\n",
              "      <td>Pentagon claims 2,000 % increase in Russian tr...</td>\n",
              "    </tr>\n",
              "    <tr>\n",
              "      <th>2</th>\n",
              "      <td>8731</td>\n",
              "      <td>Iceland PM Calls Snap Vote as Pedophile Furor ...</td>\n",
              "      <td>party</td>\n",
              "      <td>22100</td>\n",
              "      <td>1.0</td>\n",
              "      <td>Iceland PM Calls Snap Vote as Pedophile Furor ...</td>\n",
              "    </tr>\n",
              "    <tr>\n",
              "      <th>3</th>\n",
              "      <td>76</td>\n",
              "      <td>In an apparent first , Iran and Israel engage ...</td>\n",
              "      <td>slap</td>\n",
              "      <td>20000</td>\n",
              "      <td>0.4</td>\n",
              "      <td>In an apparent first , Iran and Israel slap ea...</td>\n",
              "    </tr>\n",
              "    <tr>\n",
              "      <th>4</th>\n",
              "      <td>6164</td>\n",
              "      <td>Trump was told weeks ago that Flynn misled Vic...</td>\n",
              "      <td>school</td>\n",
              "      <td>0</td>\n",
              "      <td>0.0</td>\n",
              "      <td>Trump was told weeks ago that Flynn misled sch...</td>\n",
              "    </tr>\n",
              "  </tbody>\n",
              "</table>\n",
              "</div>"
            ],
            "text/plain": [
              "      id  ...                                                new\n",
              "0  14530  ...  France is ‘ hunting down its citizens who join...\n",
              "1  13034  ...  Pentagon claims 2,000 % increase in Russian tr...\n",
              "2   8731  ...  Iceland PM Calls Snap Vote as Pedophile Furor ...\n",
              "3     76  ...  In an apparent first , Iran and Israel slap ea...\n",
              "4   6164  ...  Trump was told weeks ago that Flynn misled sch...\n",
              "\n",
              "[5 rows x 6 columns]"
            ]
          },
          "metadata": {
            "tags": []
          },
          "execution_count": 15
        }
      ]
    },
    {
      "cell_type": "code",
      "metadata": {
        "id": "r3P-5Agkhd1c"
      },
      "source": [
        "# train_df"
      ],
      "id": "r3P-5Agkhd1c",
      "execution_count": 37,
      "outputs": []
    },
    {
      "cell_type": "markdown",
      "metadata": {
        "id": "OiVxIiYF2wjt"
      },
      "source": [
        "### Prepare the data for BERT"
      ],
      "id": "OiVxIiYF2wjt"
    },
    {
      "cell_type": "code",
      "metadata": {
        "colab": {
          "base_uri": "https://localhost:8080/"
        },
        "id": "a-g9pMyYRl-V",
        "outputId": "a177ece8-f155-4630-90c7-8c90c3e6681f"
      },
      "source": [
        "train_df[\"original\"].values + \" [SEP] \" + train_df[\"new\"].values"
      ],
      "id": "a-g9pMyYRl-V",
      "execution_count": 16,
      "outputs": [
        {
          "output_type": "execute_result",
          "data": {
            "text/plain": [
              "array(['France is ‘ hunting down its citizens who joined Isis ’ without trial in Iraq [SEP] France is ‘ hunting down its citizens who joined twins ’ without trial in Iraq',\n",
              "       'Pentagon claims 2,000 % increase in Russian trolls after Syria strikes . What does that mean ? [SEP] Pentagon claims 2,000 % increase in Russian trolls after bowling strikes . What does that mean ?',\n",
              "       'Iceland PM Calls Snap Vote as Pedophile Furor Crashes Coalition  [SEP] Iceland PM Calls Snap Vote as Pedophile Furor Crashes party ',\n",
              "       ...,\n",
              "       \"Cruise line Carnival Corp. joins the fight against Bermuda 's same-sex marriage ban [SEP] Cruise line Carnival Corp. joins the fight against Bermuda 's same-sex raisin ban\",\n",
              "       'Columbia police hunt woman seen with gun near University of Missouri campus [SEP] Columbia police hunt woman seen with cake near University of Missouri campus',\n",
              "       \"Here 's What 's In The House-Approved Health Care Bill [SEP] Here 's What 's In The House-Approved Health food Bill\"],\n",
              "      dtype=object)"
            ]
          },
          "metadata": {
            "tags": []
          },
          "execution_count": 16
        }
      ]
    },
    {
      "cell_type": "code",
      "metadata": {
        "id": "E6J0_uKH20FU",
        "colab": {
          "base_uri": "https://localhost:8080/",
          "height": 66,
          "referenced_widgets": [
            "2ea75a957e2b4199bdef4ebd87ff9223",
            "135eaeaceebf4e2f9e67aefd936a295a",
            "5e18c158bf7b421dba91eeb91d5e3ed5",
            "783faf1cb3234fa9a4af6a7b004704d0",
            "8f3bc94c5d7c4bba81fe6be470ea0819",
            "401755bdab2b4d7cb22424798d90a849",
            "417081dfed124ad38b5714c59fdb9090",
            "2e8aa1cfa4584f99a8f863c57d524be8"
          ]
        },
        "outputId": "a04712b4-cc13-45dd-e2ac-d0428117f08c"
      },
      "source": [
        "# max len in our dataset is 35\r\n",
        "MAX_LEN = 42\r\n",
        "concat = True\r\n",
        "tokenizer = BertTokenizer.from_pretrained(\"bert-base-uncased\", do_lower_case=True)\r\n",
        "\r\n",
        "def tokenize_from_dataframe(input_df, tokenizer, max_len=42, concat=False):\r\n",
        "    \"\"\"\r\n",
        "    Get the headline, tokenize, create the attention mask and return.\r\n",
        "    \"\"\"\r\n",
        "    if concat:\r\n",
        "        max_len = 2 * max_len\r\n",
        "        headlines = input_df[\"original\"].values + \" [SEP] \" + input_df[\"new\"].values\r\n",
        "    else:\r\n",
        "        headlines = input_df[\"new\"].values\r\n",
        "\r\n",
        "    # create input ids\r\n",
        "    input_ids = [tokenizer.encode(headline, add_special_tokens=True, max_length=max_len, padding='max_length') for headline in headlines]\r\n",
        "\r\n",
        "    ## Create attention and segment mask\r\n",
        "    attention_masks = []\r\n",
        "    token_type_ids = []\r\n",
        "    for seq in input_ids:\r\n",
        "        attention_mask = [float(i>0) for i in seq]\r\n",
        "        attention_mask = []\r\n",
        "        segment_mask = []\r\n",
        "        seen_sep = False\r\n",
        "        for i in seq:\r\n",
        "            attention_mask += [float(i>0)]\r\n",
        "            segment_mask += [int(seen_sep)]\r\n",
        "            if i == 102:\r\n",
        "                seen_sep = True\r\n",
        "        attention_masks += [attention_mask]\r\n",
        "        token_type_ids += [segment_mask]\r\n",
        "\r\n",
        "    ## Create a mask of 1 for all input tokens and 0 for all padding tokens\r\n",
        "    #attention_masks = [[float(i>0) for i in seq] for seq in input_ids]\r\n",
        "\r\n",
        "    return input_ids, attention_masks, token_type_ids\r\n",
        "\r\n",
        "labels = train_df[\"meanGrade\"].values\r\n",
        "input_ids, attention_masks, token_type_ids = tokenize_from_dataframe(train_df, tokenizer, MAX_LEN, concat)"
      ],
      "id": "E6J0_uKH20FU",
      "execution_count": 17,
      "outputs": [
        {
          "output_type": "display_data",
          "data": {
            "application/vnd.jupyter.widget-view+json": {
              "model_id": "2ea75a957e2b4199bdef4ebd87ff9223",
              "version_minor": 0,
              "version_major": 2
            },
            "text/plain": [
              "HBox(children=(FloatProgress(value=0.0, description='Downloading', max=231508.0, style=ProgressStyle(descripti…"
            ]
          },
          "metadata": {
            "tags": []
          }
        },
        {
          "output_type": "stream",
          "text": [
            "\n"
          ],
          "name": "stdout"
        }
      ]
    },
    {
      "cell_type": "code",
      "metadata": {
        "id": "iCxYrm1IYAgz"
      },
      "source": [
        "#input_ids"
      ],
      "id": "iCxYrm1IYAgz",
      "execution_count": 18,
      "outputs": []
    },
    {
      "cell_type": "code",
      "metadata": {
        "id": "tAnCgG5rLPLk"
      },
      "source": [
        "# max_len = 42\r\n",
        "# one_headline = train_df[\"original\"].values[0]\r\n",
        "# modif_headline = train_df[\"new\"].values[0]\r\n",
        "# concat_headline = one_headline + \" [SEP] \" + modif_headline\r\n",
        "# test = \"france is hunting down\"\r\n",
        "# test2 = \"france is hunting down [SEP] france is hunting down\"\r\n",
        "\r\n",
        "# encoded_headline = tokenizer.encode(one_headline, add_special_tokens=True, max_length=max_len, padding='max_length')\r\n",
        "# encoded_modif_headline = tokenizer.encode(modif_headline, add_special_tokens=True, max_length=max_len, padding='max_length')\r\n",
        "# encoded_concat_headline = tokenizer.encode(concat_headline, add_special_tokens=True, max_length=max_len, padding='max_length')\r\n",
        "# encoded_test = tokenizer.encode(test, add_special_tokens=True, max_length=max_len, padding='max_length')\r\n",
        "# encoded_test2 = tokenizer.encode(test2, add_special_tokens=True, max_length=max_len, padding='max_length')\r\n",
        "\r\n",
        "# print(\"original headline : \", one_headline)\r\n",
        "# print(\"Modified headline : \", modif_headline)\r\n",
        "# print(\"Modified headline : \", concat_headline)\r\n",
        "# print(\"Test headline : \", test)\r\n",
        "# print(\"Test2 headline : \", test2)\r\n",
        "# print(\"Original headline encoded : \", np.array(encoded_headline))\r\n",
        "# print(\"Modified headline encoded : \", np.array(encoded_modif_headline))\r\n",
        "# print(\"Concat headline encoded : \", np.array(encoded_concat_headline))\r\n",
        "# print(\"Test headline encoded : \", np.array(encoded_test))\r\n",
        "# print(\"Test 2 headline encoded : \", np.array(encoded_test2))"
      ],
      "id": "tAnCgG5rLPLk",
      "execution_count": 19,
      "outputs": []
    },
    {
      "cell_type": "code",
      "metadata": {
        "colab": {
          "base_uri": "https://localhost:8080/"
        },
        "id": "imK19U8Mx2Cx",
        "outputId": "3033a2cc-c588-4030-b1c4-0eeb971ad0c5"
      },
      "source": [
        "labels.mean()"
      ],
      "id": "imK19U8Mx2Cx",
      "execution_count": 20,
      "outputs": [
        {
          "output_type": "execute_result",
          "data": {
            "text/plain": [
              "0.9355712114933001"
            ]
          },
          "metadata": {
            "tags": []
          },
          "execution_count": 20
        }
      ]
    },
    {
      "cell_type": "code",
      "metadata": {
        "id": "8fVtRO3WLb_9"
      },
      "source": [
        "#input_ids[0], input_ids[0][0]"
      ],
      "id": "8fVtRO3WLb_9",
      "execution_count": 21,
      "outputs": []
    },
    {
      "cell_type": "code",
      "metadata": {
        "colab": {
          "base_uri": "https://localhost:8080/"
        },
        "id": "KHavT_aaAlww",
        "outputId": "5f9afc22-cd22-44e5-ace5-92f46000e066"
      },
      "source": [
        "labels, labels.dtype"
      ],
      "id": "KHavT_aaAlww",
      "execution_count": 22,
      "outputs": [
        {
          "output_type": "execute_result",
          "data": {
            "text/plain": [
              "(array([0.2, 1.6, 1. , ..., 0.6, 1.4, 0.4]), dtype('float64'))"
            ]
          },
          "metadata": {
            "tags": []
          },
          "execution_count": 22
        }
      ]
    },
    {
      "cell_type": "markdown",
      "metadata": {
        "id": "KhmjGepIVW-8"
      },
      "source": [
        "### Create our dataloaders"
      ],
      "id": "KhmjGepIVW-8"
    },
    {
      "cell_type": "code",
      "metadata": {
        "colab": {
          "base_uri": "https://localhost:8080/"
        },
        "id": "Pg2q0Zz0VaN-",
        "outputId": "10642194-8e5e-4913-bfb8-0fce384f30b2"
      },
      "source": [
        "validation_prop = 0.2\r\n",
        "BATCH_SIZE = 32\r\n",
        "\r\n",
        "# split\r\n",
        "train_inputs, validation_inputs, train_labels, validation_labels, train_masks, validation_masks, train_token_type_ids, validation_token_type_ids = train_test_split(input_ids, labels, attention_masks, token_type_ids, test_size=validation_prop)\r\n",
        "\r\n",
        "train_inputs = torch.tensor(train_inputs)\r\n",
        "validation_inputs = torch.tensor(validation_inputs)\r\n",
        "train_labels = torch.tensor(train_labels, dtype=torch.float32)\r\n",
        "validation_labels = torch.tensor(validation_labels, dtype=torch.float32)\r\n",
        "train_masks = torch.tensor(train_masks, dtype=torch.float32)\r\n",
        "validation_masks = torch.tensor(validation_masks, dtype=torch.float32)\r\n",
        "train_token_type_ids = torch.tensor(train_token_type_ids, dtype=torch.long)\r\n",
        "validation_token_type_ids = torch.tensor(validation_token_type_ids, dtype=torch.long)\r\n",
        "\r\n",
        "train_data = torch.utils.data.TensorDataset(train_inputs, train_masks, train_token_type_ids, train_labels)\r\n",
        "validation_data = torch.utils.data.TensorDataset(validation_inputs, validation_masks, validation_token_type_ids, validation_labels)\r\n",
        "\r\n",
        "# DATA LOADERS\r\n",
        "train_loader = torch.utils.data.DataLoader(train_data, shuffle=True, batch_size=BATCH_SIZE)\r\n",
        "validation_loader = torch.utils.data.DataLoader(validation_data, shuffle=False, batch_size=BATCH_SIZE)\r\n",
        "\r\n",
        "print(\"Dataloaders created.\")"
      ],
      "id": "Pg2q0Zz0VaN-",
      "execution_count": 23,
      "outputs": [
        {
          "output_type": "stream",
          "text": [
            "Dataloaders created.\n"
          ],
          "name": "stdout"
        }
      ]
    },
    {
      "cell_type": "markdown",
      "metadata": {
        "id": "xVn5BunvoiN4"
      },
      "source": [
        "### Declare our model"
      ],
      "id": "xVn5BunvoiN4"
    },
    {
      "cell_type": "code",
      "metadata": {
        "id": "vXGqJjzAoi7K"
      },
      "source": [
        "class FunninessRegressor(nn.Module):\r\n",
        "\r\n",
        "    def __init__(self):\r\n",
        "        super(FunninessRegressor, self).__init__()\r\n",
        "\r\n",
        "        self.bert = BertModel.from_pretrained(\"bert-base-uncased\")\r\n",
        "        self.dropout = nn.Dropout(0.1)\r\n",
        "        self.fc1 = torch.nn.Linear(768, 1)\r\n",
        "\r\n",
        "    def forward(self, x, att, token_type_ids):\r\n",
        "        \"\"\"\r\n",
        "        att: attention mask\r\n",
        "        \"\"\"\r\n",
        "        # inspired by https://huggingface.co/transformers/_modules/transformers/models/bert/modeling_bert.html#BertForSequenceClassification\r\n",
        "        outputs = self.bert(x, token_type_ids=token_type_ids, attention_mask=att)\r\n",
        "        pooled_output = outputs[1] # directly gives the CLS corresponding vector\r\n",
        "        pooled_output = self.dropout(pooled_output)\r\n",
        "        out = torch.clamp(self.fc1(pooled_output), min=0.0, max=3.0)\r\n",
        "        return out"
      ],
      "id": "vXGqJjzAoi7K",
      "execution_count": 25,
      "outputs": []
    },
    {
      "cell_type": "code",
      "metadata": {
        "id": "hfV3bmhUY76b",
        "colab": {
          "base_uri": "https://localhost:8080/",
          "height": 132,
          "referenced_widgets": [
            "c722f931e22f4bc78719ea76f99b4151",
            "39ed2506f75e4952a136f21f3a773a54",
            "e7cc91f83b9c4f2ab1f6818b4b63afc0",
            "852e71978ff54de5b60f347c341748b5",
            "6a6c09d8c4aa4405a8e09bfe9c26cd27",
            "bfb85699aeb34be5a71eb34cbd122410",
            "f8d9c1ab830b4da3a4f3b040d374d71d",
            "38e5471d6ca345a4a73ead037833b247",
            "7968652ad79b49b1a7c6005e20af457e",
            "fe068c72d08047e99ba8c754272ec265",
            "d1383cd39a3e48ecb68853444c079948",
            "6d5bbe6fc4954d309b39270a7938d0c5",
            "d04534baa0694e849650d9b419b91560",
            "979037cb4542457eb9d85451b5cfe734",
            "e7da7bd6b5bb472587b2b5f86ad4ecec",
            "f9537d519ebd4a0487847a1b91532a49"
          ]
        },
        "outputId": "e2446e21-ce07-476f-ba43-0d7256afb344"
      },
      "source": [
        "## Approach 1 code, using functions defined above:\n",
        "\n",
        "# Number of epochs\n",
        "num_epochs = 2 #2\n",
        "learning_rate = 2e-6 #2e-6\n",
        "adam_eps = 1e-8\n",
        "\n",
        "# define model\n",
        "model = FunninessRegressor()\n",
        "print(\"Model initialised.\")\n",
        "\n",
        "model.to(device)\n",
        "\n",
        "# define optimizer - special optimizer for BERT\n",
        "model.train()\n",
        "optimizer = AdamW(model.parameters(), lr=learning_rate, eps=adam_eps, correct_bias=False)\n",
        "\n",
        "loss_fn = nn.MSELoss()\n",
        "loss_fn = loss_fn.to(device)"
      ],
      "id": "hfV3bmhUY76b",
      "execution_count": 26,
      "outputs": [
        {
          "output_type": "display_data",
          "data": {
            "application/vnd.jupyter.widget-view+json": {
              "model_id": "c722f931e22f4bc78719ea76f99b4151",
              "version_minor": 0,
              "version_major": 2
            },
            "text/plain": [
              "HBox(children=(FloatProgress(value=0.0, description='Downloading', max=433.0, style=ProgressStyle(description_…"
            ]
          },
          "metadata": {
            "tags": []
          }
        },
        {
          "output_type": "stream",
          "text": [
            "\n"
          ],
          "name": "stdout"
        },
        {
          "output_type": "display_data",
          "data": {
            "application/vnd.jupyter.widget-view+json": {
              "model_id": "7968652ad79b49b1a7c6005e20af457e",
              "version_minor": 0,
              "version_major": 2
            },
            "text/plain": [
              "HBox(children=(FloatProgress(value=0.0, description='Downloading', max=440473133.0, style=ProgressStyle(descri…"
            ]
          },
          "metadata": {
            "tags": []
          }
        },
        {
          "output_type": "stream",
          "text": [
            "\n",
            "Model initialised.\n"
          ],
          "name": "stdout"
        }
      ]
    },
    {
      "cell_type": "code",
      "metadata": {
        "colab": {
          "base_uri": "https://localhost:8080/"
        },
        "id": "3Fy6DDsrjaeK",
        "outputId": "02135fc5-efe7-4658-8fc2-4918d8e7db68"
      },
      "source": [
        "train(model, train_loader, validation_loader, num_epochs)"
      ],
      "id": "3Fy6DDsrjaeK",
      "execution_count": 27,
      "outputs": [
        {
          "output_type": "stream",
          "text": [
            "Training model.\n",
            "| Epoch: 01 | Train Loss: 0.47 | Train MSE: 0.47 | Train RMSE: 0.68 |         Val. Loss: 0.31 | Val. MSE: 0.31 |  Val. RMSE: 0.56 |\n",
            "| Epoch: 02 | Train Loss: 0.30 | Train MSE: 0.30 | Train RMSE: 0.55 |         Val. Loss: 0.30 | Val. MSE: 0.30 |  Val. RMSE: 0.54 |\n"
          ],
          "name": "stdout"
        }
      ]
    },
    {
      "cell_type": "code",
      "metadata": {
        "colab": {
          "base_uri": "https://localhost:8080/"
        },
        "id": "qVZQVy421wuO",
        "outputId": "63615fd7-ba27-457e-aff4-d23088938de7"
      },
      "source": [
        "model.eval()\r\n",
        "print(\"To eval mode.\")"
      ],
      "id": "qVZQVy421wuO",
      "execution_count": 28,
      "outputs": [
        {
          "output_type": "stream",
          "text": [
            "To eval mode.\n"
          ],
          "name": "stdout"
        }
      ]
    },
    {
      "cell_type": "markdown",
      "metadata": {
        "id": "_JY8saTa9FTO"
      },
      "source": [
        "### Look at a few results on the train_loader"
      ],
      "id": "_JY8saTa9FTO"
    },
    {
      "cell_type": "code",
      "metadata": {
        "id": "PcUl1XKW3HbG"
      },
      "source": [
        "mean_value = 0.9355712114933001"
      ],
      "id": "PcUl1XKW3HbG",
      "execution_count": 29,
      "outputs": []
    },
    {
      "cell_type": "code",
      "metadata": {
        "colab": {
          "base_uri": "https://localhost:8080/"
        },
        "id": "DfdL5BCj7c58",
        "outputId": "6dcf947d-355c-4574-b47a-32ba104847cd"
      },
      "source": [
        "torch.ones((2, 2)) * mean_value"
      ],
      "id": "DfdL5BCj7c58",
      "execution_count": 30,
      "outputs": [
        {
          "output_type": "execute_result",
          "data": {
            "text/plain": [
              "tensor([[0.9356, 0.9356],\n",
              "        [0.9356, 0.9356]])"
            ]
          },
          "metadata": {
            "tags": []
          },
          "execution_count": 30
        }
      ]
    },
    {
      "cell_type": "code",
      "metadata": {
        "colab": {
          "base_uri": "https://localhost:8080/"
        },
        "id": "nHcTz9cB9MiH",
        "outputId": "a1706aea-4ab7-4d79-cc31-6d1cd5605271"
      },
      "source": [
        "# make predictions\r\n",
        "train_predictions = []\r\n",
        "model_perf = 0\r\n",
        "mean_perf = 0\r\n",
        "true_labels = []\r\n",
        "with torch.no_grad():\r\n",
        "    for batch in train_loader:\r\n",
        "        # add batch to GPU\r\n",
        "        batch = tuple(t.to(device) for t in batch)\r\n",
        "        # unzip\r\n",
        "        input_ids, input_masks, input_toktypes, targets = batch\r\n",
        "        # predict (forward pass)\r\n",
        "        pred = model(input_ids, input_masks, input_toktypes)\r\n",
        "        train_predictions += [pred]\r\n",
        "        true_labels += [targets]\r\n",
        "\r\n",
        "        mean_predictions = torch.ones_like(pred) * mean_value\r\n",
        "        mean_predictions = mean_predictions.to(device)\r\n",
        "\r\n",
        "        # for the model\r\n",
        "        # get scores\r\n",
        "        pred = pred.squeeze(1)\r\n",
        "        train_loss = loss_fn(pred, targets)\r\n",
        "\r\n",
        "        # We get the mse\r\n",
        "        pred, trg = pred.detach().cpu().numpy(), targets.detach().cpu().numpy()\r\n",
        "        sse, __ = model_performance(pred, trg)\r\n",
        "        model_perf += sse\r\n",
        "\r\n",
        "        # for the mean prediction\r\n",
        "        \r\n",
        "        # get scores\r\n",
        "        mean_predictions = mean_predictions.squeeze(1)\r\n",
        "        mean_loss = loss_fn(mean_predictions, targets)\r\n",
        "\r\n",
        "        # We get the mse\r\n",
        "        pred_mean, trg_mean = mean_predictions.detach().cpu().numpy(), targets.detach().cpu().numpy()\r\n",
        "        sse_mean, __ = model_performance(pred_mean, trg_mean)\r\n",
        "        mean_perf += sse_mean\r\n",
        "\r\n",
        "\r\n",
        "train_predictions = torch.cat(train_predictions, dim=0)\r\n",
        "true_labels = torch.cat(true_labels, dim=0).unsqueeze(1)\r\n",
        "check_values = torch.cat((train_predictions, true_labels), dim=1)\r\n",
        "print(\"Performances : --- Model : {} --- --- Mean predictor : {} ---\".format(model_perf, mean_perf))\r\n",
        "print(\"Values : \", check_values)"
      ],
      "id": "nHcTz9cB9MiH",
      "execution_count": 31,
      "outputs": [
        {
          "output_type": "stream",
          "text": [
            "Performances : --- Model : 1920.6084697246552 --- --- Mean predictor : 2621.7857179641724 ---\n",
            "Values :  tensor([[0.6450, 1.0000],\n",
            "        [0.8564, 0.8000],\n",
            "        [1.2365, 1.4000],\n",
            "        ...,\n",
            "        [0.6389, 0.4000],\n",
            "        [0.6657, 0.0000],\n",
            "        [0.8402, 0.8000]], device='cuda:0')\n"
          ],
          "name": "stdout"
        }
      ]
    },
    {
      "cell_type": "code",
      "metadata": {
        "colab": {
          "base_uri": "https://localhost:8080/"
        },
        "id": "xb8EfJNWGbiD",
        "outputId": "71c650ee-ad88-44a3-a8f5-f427142981f9"
      },
      "source": [
        "print((2645 - 2020)/2645, (642 - 561)/642)\r\n",
        "print((2614 - 2002)/2614, (673-598)/673)\r\n",
        "print(\"With new version\")\r\n",
        "print((2634 - 2267)/2634, (653-634)/653)\r\n",
        "print((2667 - 1809)/2667, (619-586)/619)\r\n",
        "print((2651 - 1787)/2651, (635-555)/635)\r\n",
        "print((2621 - 1920)/2621, (666-573)/666)"
      ],
      "id": "xb8EfJNWGbiD",
      "execution_count": 35,
      "outputs": [
        {
          "output_type": "stream",
          "text": [
            "0.23629489603024575 0.1261682242990654\n",
            "0.234123947972456 0.11144130757800892\n",
            "With new version\n",
            "0.13933181473044798 0.02909647779479326\n",
            "0.3217097862767154 0.05331179321486268\n",
            "0.32591474915126367 0.12598425196850394\n",
            "0.26745516978252576 0.13963963963963963\n"
          ],
          "name": "stdout"
        }
      ]
    },
    {
      "cell_type": "code",
      "metadata": {
        "colab": {
          "base_uri": "https://localhost:8080/"
        },
        "id": "zugCq5rW9WfP",
        "outputId": "1c7fd184-aedf-440f-ac14-d10a84347f0d"
      },
      "source": [
        "# make predictions\r\n",
        "validation_predictions = []\r\n",
        "model_perf = 0\r\n",
        "mean_perf = 0\r\n",
        "true_labels = []\r\n",
        "with torch.no_grad():\r\n",
        "    for batch in validation_loader:\r\n",
        "        # add batch to GPU\r\n",
        "        batch = tuple(t.to(device) for t in batch)\r\n",
        "        # unzip\r\n",
        "        input_ids, input_masks, input_toktypes, targets = batch\r\n",
        "        # predict (forward pass)\r\n",
        "        pred = model(input_ids, input_masks, input_toktypes)\r\n",
        "        validation_predictions += [pred]\r\n",
        "        true_labels += [targets]\r\n",
        "\r\n",
        "        mean_predictions = torch.ones_like(pred) * mean_value\r\n",
        "        mean_predictions = mean_predictions.to(device)\r\n",
        "\r\n",
        "        # for the model\r\n",
        "        # get scores\r\n",
        "        pred = pred.squeeze(1)\r\n",
        "        validation_loss = loss_fn(pred, targets)\r\n",
        "\r\n",
        "        # We get the mse\r\n",
        "        pred, trg = pred.detach().cpu().numpy(), targets.detach().cpu().numpy()\r\n",
        "        sse, __ = model_performance(pred, trg)\r\n",
        "        model_perf += sse\r\n",
        "\r\n",
        "        # for the mean prediction\r\n",
        "        \r\n",
        "        # get scores\r\n",
        "        mean_predictions = mean_predictions.squeeze(1)\r\n",
        "        mean_loss = loss_fn(mean_predictions, targets)\r\n",
        "\r\n",
        "        # We get the mse\r\n",
        "        pred_mean, trg_mean = mean_predictions.detach().cpu().numpy(), targets.detach().cpu().numpy()\r\n",
        "        sse_mean, __ = model_performance(pred_mean, trg_mean)\r\n",
        "        mean_perf += sse_mean\r\n",
        "\r\n",
        "\r\n",
        "validation_predictions = torch.cat(validation_predictions, dim=0)\r\n",
        "true_labels = torch.cat(true_labels, dim=0).unsqueeze(1)\r\n",
        "check_values = torch.cat((validation_predictions, true_labels), dim=1)\r\n",
        "print(\"Performances : --- Model : {} --- --- Mean predictor : {} ---\".format(model_perf, mean_perf))\r\n",
        "print(\"Values : \", check_values)"
      ],
      "id": "zugCq5rW9WfP",
      "execution_count": 33,
      "outputs": [
        {
          "output_type": "stream",
          "text": [
            "Performances : --- Model : 573.1840415000916 --- --- Mean predictor : 665.7237586975098 ---\n",
            "Values :  tensor([[1.5418, 0.6000],\n",
            "        [1.0082, 0.8000],\n",
            "        [0.9202, 1.4000],\n",
            "        ...,\n",
            "        [0.6346, 0.2000],\n",
            "        [0.9323, 1.2000],\n",
            "        [0.5633, 0.8000]], device='cuda:0')\n"
          ],
          "name": "stdout"
        }
      ]
    },
    {
      "cell_type": "markdown",
      "metadata": {
        "id": "nBo62sk3TaUi"
      },
      "source": [
        "### Now, we can score the dev dataset"
      ],
      "id": "nBo62sk3TaUi"
    },
    {
      "cell_type": "code",
      "metadata": {
        "id": "yELkD3fFY76c",
        "colab": {
          "base_uri": "https://localhost:8080/",
          "height": 231
        },
        "outputId": "e0009287-580f-4039-8d2e-329ce755b6d7"
      },
      "source": [
        "# get the data\r\n",
        "dev_df = pd.read_csv('dev.csv')\r\n",
        "# transforms the headlines\r\n",
        "dev_df = pre_process_headlines(dev_df)\r\n",
        "dev_input_ids, dev_attention_masks = tokenize_from_dataframe(dev_df, tokenizer, MAX_LEN)\r\n",
        "\r\n",
        "# maybe we should make sure that max_len was enough\r\n",
        "\r\n",
        "# convert to tensor\r\n",
        "dev_inputs = torch.tensor(dev_input_ids)\r\n",
        "dev_masks = torch.tensor(dev_attention_masks, dtype=torch.float32)\r\n",
        "\r\n",
        "# create \r\n",
        "dev_data = torch.utils.data.TensorDataset(dev_inputs, dev_masks)\r\n",
        "dev_loader = torch.utils.data.DataLoader(dev_data, shuffle=False, batch_size=BATCH_SIZE)\r\n",
        "\r\n",
        "# make predictions\r\n",
        "predictions = []\r\n",
        "with torch.no_grad():\r\n",
        "    for batch in dev_loader:\r\n",
        "        # add batch to GPU\r\n",
        "        batch = tuple(t.to(device) for t in batch)\r\n",
        "        # unzip\r\n",
        "        input_ids, input_masks = batch\r\n",
        "        # predict (forward pass)\r\n",
        "        pred = model(input_ids, input_masks)\r\n",
        "        predictions += [pred]\r\n",
        "\r\n",
        "predictions = torch.cat(predictions, dim=0)\r\n",
        "predictions"
      ],
      "id": "yELkD3fFY76c",
      "execution_count": 34,
      "outputs": [
        {
          "output_type": "error",
          "ename": "ValueError",
          "evalue": "ignored",
          "traceback": [
            "\u001b[0;31m---------------------------------------------------------------------------\u001b[0m",
            "\u001b[0;31mValueError\u001b[0m                                Traceback (most recent call last)",
            "\u001b[0;32m<ipython-input-34-f39940244649>\u001b[0m in \u001b[0;36m<module>\u001b[0;34m()\u001b[0m\n\u001b[1;32m      3\u001b[0m \u001b[0;31m# transforms the headlines\u001b[0m\u001b[0;34m\u001b[0m\u001b[0;34m\u001b[0m\u001b[0;34m\u001b[0m\u001b[0m\n\u001b[1;32m      4\u001b[0m \u001b[0mdev_df\u001b[0m \u001b[0;34m=\u001b[0m \u001b[0mpre_process_headlines\u001b[0m\u001b[0;34m(\u001b[0m\u001b[0mdev_df\u001b[0m\u001b[0;34m)\u001b[0m\u001b[0;34m\u001b[0m\u001b[0;34m\u001b[0m\u001b[0m\n\u001b[0;32m----> 5\u001b[0;31m \u001b[0mdev_input_ids\u001b[0m\u001b[0;34m,\u001b[0m \u001b[0mdev_attention_masks\u001b[0m \u001b[0;34m=\u001b[0m \u001b[0mtokenize_from_dataframe\u001b[0m\u001b[0;34m(\u001b[0m\u001b[0mdev_df\u001b[0m\u001b[0;34m,\u001b[0m \u001b[0mtokenizer\u001b[0m\u001b[0;34m,\u001b[0m \u001b[0mMAX_LEN\u001b[0m\u001b[0;34m)\u001b[0m\u001b[0;34m\u001b[0m\u001b[0;34m\u001b[0m\u001b[0m\n\u001b[0m\u001b[1;32m      6\u001b[0m \u001b[0;34m\u001b[0m\u001b[0m\n\u001b[1;32m      7\u001b[0m \u001b[0;31m# maybe we should make sure that max_len was enough\u001b[0m\u001b[0;34m\u001b[0m\u001b[0;34m\u001b[0m\u001b[0;34m\u001b[0m\u001b[0m\n",
            "\u001b[0;31mValueError\u001b[0m: too many values to unpack (expected 2)"
          ]
        }
      ]
    },
    {
      "cell_type": "code",
      "metadata": {
        "id": "O9yatCieUPXR"
      },
      "source": [
        "for i in range(50):\r\n",
        "    print(dev_df[\"new\"][i])\r\n",
        "    print(\"Funniness : \", predictions[i].item())\r\n",
        "    print(\"---\")\r\n",
        "    "
      ],
      "id": "O9yatCieUPXR",
      "execution_count": null,
      "outputs": []
    },
    {
      "cell_type": "code",
      "metadata": {
        "id": "EcfvYCMn4koc"
      },
      "source": [
        ""
      ],
      "id": "EcfvYCMn4koc",
      "execution_count": null,
      "outputs": []
    }
  ]
}